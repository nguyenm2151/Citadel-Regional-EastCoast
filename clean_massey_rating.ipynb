{
 "cells": [
  {
   "cell_type": "code",
   "execution_count": 1,
   "metadata": {},
   "outputs": [],
   "source": [
    "import pandas as pd\n",
    "import numpy as np\n",
    "import os"
   ]
  },
  {
   "cell_type": "code",
   "execution_count": 2,
   "metadata": {},
   "outputs": [],
   "source": [
    "dir = \"\""
   ]
  },
  {
   "cell_type": "code",
   "execution_count": 3,
   "metadata": {},
   "outputs": [],
   "source": [
    "match_df = pd.read_csv(dir + \"match_clean.csv\")\n",
    "\n",
    "match_df = match_df.drop('Unnamed: 0',axis=1)"
   ]
  },
  {
   "cell_type": "code",
   "execution_count": 4,
   "metadata": {},
   "outputs": [],
   "source": [
    "match_df = match_df.sort_values([\"league_id\", \"date\", \"match_id\"])"
   ]
  },
  {
   "cell_type": "code",
   "execution_count": 5,
   "metadata": {},
   "outputs": [
    {
     "name": "stderr",
     "output_type": "stream",
     "text": [
      "<ipython-input-5-8a2762457f41>:4: SettingWithCopyWarning: \n",
      "A value is trying to be set on a copy of a slice from a DataFrame.\n",
      "Try using .loc[row_indexer,col_indexer] = value instead\n",
      "\n",
      "See the caveats in the documentation: https://pandas.pydata.org/pandas-docs/stable/user_guide/indexing.html#returning-a-view-versus-a-copy\n",
      "  rating_df[\"score_home_v_away\"] = rating_df[\"home_team_goal\"] - rating_df[\"away_team_goal\"]\n",
      "<ipython-input-5-8a2762457f41>:6: SettingWithCopyWarning: \n",
      "A value is trying to be set on a copy of a slice from a DataFrame.\n",
      "Try using .loc[row_indexer,col_indexer] = value instead\n",
      "\n",
      "See the caveats in the documentation: https://pandas.pydata.org/pandas-docs/stable/user_guide/indexing.html#returning-a-view-versus-a-copy\n",
      "  rating_df[\"score_away_v_home\"] = rating_df[\"away_team_goal\"] - rating_df[\"home_team_goal\"]\n",
      "/Users/Watanatornpitakp/opt/anaconda3/lib/python3.8/site-packages/pandas/core/indexing.py:966: SettingWithCopyWarning: \n",
      "A value is trying to be set on a copy of a slice from a DataFrame.\n",
      "Try using .loc[row_indexer,col_indexer] = value instead\n",
      "\n",
      "See the caveats in the documentation: https://pandas.pydata.org/pandas-docs/stable/user_guide/indexing.html#returning-a-view-versus-a-copy\n",
      "  self.obj[item] = s\n",
      "<ipython-input-5-8a2762457f41>:10: SettingWithCopyWarning: \n",
      "A value is trying to be set on a copy of a slice from a DataFrame.\n",
      "Try using .loc[row_indexer,col_indexer] = value instead\n",
      "\n",
      "See the caveats in the documentation: https://pandas.pydata.org/pandas-docs/stable/user_guide/indexing.html#returning-a-view-versus-a-copy\n",
      "  rating_df[\"home_m_rating\"] = 0\n",
      "<ipython-input-5-8a2762457f41>:12: SettingWithCopyWarning: \n",
      "A value is trying to be set on a copy of a slice from a DataFrame.\n",
      "Try using .loc[row_indexer,col_indexer] = value instead\n",
      "\n",
      "See the caveats in the documentation: https://pandas.pydata.org/pandas-docs/stable/user_guide/indexing.html#returning-a-view-versus-a-copy\n",
      "  rating_df[\"away_m_rating\"] = 0\n"
     ]
    }
   ],
   "source": [
    "rating_df = match_df[[\"league_id\", \"season\", \"date\", \"stage\", \"match_id\", \"home_team_id\",\n",
    "                      \"away_team_id\", \"home_team_goal\", \"away_team_goal\"]]\n",
    "\n",
    "rating_df[\"score_home_v_away\"] = rating_df[\"home_team_goal\"] - rating_df[\"away_team_goal\"]\n",
    "\n",
    "rating_df[\"score_away_v_home\"] = rating_df[\"away_team_goal\"] - rating_df[\"home_team_goal\"]\n",
    "\n",
    "rating_df.loc[(rating_df[\"league_id\"]==10257) & (rating_df[\"season\"]==\"2014/2015\"), \"stage\"] = 38\n",
    "\n",
    "rating_df[\"home_m_rating\"] = 0\n",
    "\n",
    "rating_df[\"away_m_rating\"] = 0"
   ]
  },
  {
   "cell_type": "code",
   "execution_count": 10,
   "metadata": {},
   "outputs": [
    {
     "data": {
      "text/plain": [
       "0.0     0.253936\n",
       "1.0     0.369067\n",
       "2.0     0.221112\n",
       "3.0     0.097366\n",
       "4.0     0.040563\n",
       "5.0     0.012199\n",
       "6.0     0.004041\n",
       "7.0     0.001182\n",
       "8.0     0.000419\n",
       "9.0     0.000076\n",
       "10.0    0.000038\n",
       "dtype: float64"
      ]
     },
     "execution_count": 10,
     "metadata": {},
     "output_type": "execute_result"
    }
   ],
   "source": [
    "abs(rating_df[\"home_team_goal\"]-rating_df[\"away_team_goal\"]).value_counts().sort_index() /len(rating_df)"
   ]
  },
  {
   "cell_type": "code",
   "execution_count": 6,
   "metadata": {},
   "outputs": [
    {
     "name": "stdout",
     "output_type": "stream",
     "text": [
      "1\n",
      "1729\n",
      "4769\n",
      "7809\n",
      "10257\n",
      "13274\n",
      "15722\n",
      "17642\n",
      "19694\n",
      "21518\n",
      "24558\n"
     ]
    }
   ],
   "source": [
    "for league in rating_df[\"league_id\"].unique(): \n",
    "    \n",
    "    print(league)\n",
    "    \n",
    "    for season in rating_df[\"season\"].unique():\n",
    "        \n",
    "        ls_df = rating_df.loc[(rating_df[\"league_id\"]==league) & (rating_df[\"season\"]==season)]\n",
    "        \n",
    "        ls_teams = set(ls_df[\"home_team_id\"].tolist() + ls_df[\"away_team_id\"].tolist())\n",
    "        \n",
    "        rating_dict = {}\n",
    "        record_dict = {}\n",
    "        \n",
    "        for team in ls_teams:\n",
    "            rating_dict[team] = [0]\n",
    "            record_dict[team] = []\n",
    "\n",
    "        for stage in range(1, int(max(rating_df[\"stage\"]) +1)):\n",
    "\n",
    "            lss_df = ls_df.loc[(ls_df[\"stage\"]==stage)]\n",
    "            lss_df = lss_df.sort_values([\"date\", \"match_id\"])\n",
    "\n",
    "\n",
    "            for home, away in zip(lss_df[\"home_team_id\"], lss_df[\"away_team_id\"]):\n",
    "                record_dict[home] = record_dict[home] + [away]\n",
    "                record_dict[away] = record_dict[away] + [home]\n",
    "\n",
    "            for home_team, home_spread, away_team, away_spread, date in zip(lss_df[\"home_team_id\"], \n",
    "                                                                            lss_df[\"score_home_v_away\"],\n",
    "                                                                            lss_df[\"away_team_id\"], \n",
    "                                                                            lss_df[\"score_away_v_home\"],\n",
    "                                                                            lss_df[\"date\"]):\n",
    "\n",
    "                home_spread = min(5, home_spread)\n",
    "                away_spread = min(5, away_spread)\n",
    "\n",
    "                home_matches = len(record_dict[home_team])\n",
    "                home_new_rating = ((home_matches-1)/home_matches)*rating_dict[home_team][-1]\n",
    "                home_new_rating += ((home_spread + rating_dict[away_team][-1])/home_matches)\n",
    "\n",
    "                away_matches = len(record_dict[away_team])\n",
    "                away_new_rating = ((away_matches-1)/away_matches)*rating_dict[away_team][-1]\n",
    "                away_new_rating += ((away_spread + rating_dict[home_team][-1])/away_matches)\n",
    "\n",
    "                rating_dict[home_team] += [home_new_rating]\n",
    "                rating_dict[away_team] += [away_new_rating]\n",
    "\n",
    "                rating_df.loc[(rating_df[\"home_team_id\"]==home_team) &\n",
    "                              (rating_df[\"date\"]==date), \"home_m_rating\"] = home_new_rating\n",
    "                \n",
    "                rating_df.loc[(rating_df[\"away_team_id\"]==away_team) &\n",
    "                              (rating_df[\"date\"]==date), \"away_m_rating\"] = away_new_rating"
   ]
  },
  {
   "cell_type": "code",
   "execution_count": 7,
   "metadata": {},
   "outputs": [],
   "source": [
    "rating_hist_df = pd.concat([pd.DataFrame(zip(rating_df[\"date\"], \n",
    "                                             rating_df[\"home_team_id\"], \n",
    "                                             rating_df[\"home_m_rating\"])),\n",
    "                            pd.DataFrame(zip(rating_df[\"date\"], \n",
    "                                             rating_df[\"away_team_id\"], \n",
    "                                             rating_df[\"away_m_rating\"]))])\n",
    "\n",
    "rating_hist_df.columns=[\"date\", \"team_id\", \"m_rating\"]\n",
    "\n",
    "rating_hist_df = rating_hist_df.sort_values([\"team_id\",\"date\"])\n",
    "\n",
    "rating_hist_df[\"current_m_rating\"] = rating_hist_df.groupby(\"team_id\")[\"m_rating\"].shift(1)\n",
    "\n",
    "rating_hist_df[\"current_m_rating\"] = rating_hist_df[\"current_m_rating\"].replace(np.nan, 0)"
   ]
  },
  {
   "cell_type": "code",
   "execution_count": 8,
   "metadata": {},
   "outputs": [
    {
     "data": {
      "text/plain": [
       "Index(['league_id', 'season', 'date', 'stage', 'match_id', 'home_team_id',\n",
       "       'away_team_id', 'home_team_goal', 'away_team_goal', 'score_home_v_away',\n",
       "       'score_away_v_home', 'home_m_rating', 'away_m_rating'],\n",
       "      dtype='object')"
      ]
     },
     "execution_count": 8,
     "metadata": {},
     "output_type": "execute_result"
    }
   ],
   "source": [
    "rating_df.columns"
   ]
  },
  {
   "cell_type": "code",
   "execution_count": 9,
   "metadata": {},
   "outputs": [
    {
     "name": "stderr",
     "output_type": "stream",
     "text": [
      "<ipython-input-9-c5dd843a8d61>:7: SettingWithCopyWarning: \n",
      "A value is trying to be set on a copy of a slice from a DataFrame.\n",
      "Try using .loc[row_indexer,col_indexer] = value instead\n",
      "\n",
      "See the caveats in the documentation: https://pandas.pydata.org/pandas-docs/stable/user_guide/indexing.html#returning-a-view-versus-a-copy\n",
      "  home_df[\"home\"] = 1\n",
      "<ipython-input-9-c5dd843a8d61>:15: SettingWithCopyWarning: \n",
      "A value is trying to be set on a copy of a slice from a DataFrame.\n",
      "Try using .loc[row_indexer,col_indexer] = value instead\n",
      "\n",
      "See the caveats in the documentation: https://pandas.pydata.org/pandas-docs/stable/user_guide/indexing.html#returning-a-view-versus-a-copy\n",
      "  away_df[\"home\"] = 0\n"
     ]
    }
   ],
   "source": [
    "home_df = rating_df[['league_id', 'season', 'date', 'stage', 'match_id', \n",
    "                     'home_team_id', 'home_team_goal', 'home_m_rating']]\n",
    "\n",
    "home_df.columns = ['league_id', 'season', 'date', 'stage', 'match_id', \n",
    "                   'team_id', 'goal', 'm_rating']\n",
    "\n",
    "home_df[\"home\"] = 1\n",
    "\n",
    "away_df = rating_df[['league_id', 'season', 'date', 'stage', 'match_id', \n",
    "                     'away_team_id', 'away_team_goal', 'away_m_rating']]\n",
    "\n",
    "away_df.columns = ['league_id', 'season', 'date', 'stage', 'match_id', \n",
    "                   'team_id', 'goal', 'm_rating']\n",
    "\n",
    "away_df[\"home\"] = 0\n",
    "\n",
    "rating_df = pd.concat([home_df, away_df], axis=0)"
   ]
  },
  {
   "cell_type": "code",
   "execution_count": 10,
   "metadata": {},
   "outputs": [],
   "source": [
    "rating_df = rating_df.drop(\"m_rating\", axis=1).merge(rating_hist_df, on=[\"date\", \"team_id\"], how=\"left\")"
   ]
  },
  {
   "cell_type": "code",
   "execution_count": 11,
   "metadata": {},
   "outputs": [],
   "source": [
    "rating_df = rating_df.sort_values([\"league_id\", \"match_id\", \"home\"])"
   ]
  },
  {
   "cell_type": "code",
   "execution_count": 12,
   "metadata": {},
   "outputs": [
    {
     "data": {
      "text/html": [
       "<div>\n",
       "<style scoped>\n",
       "    .dataframe tbody tr th:only-of-type {\n",
       "        vertical-align: middle;\n",
       "    }\n",
       "\n",
       "    .dataframe tbody tr th {\n",
       "        vertical-align: top;\n",
       "    }\n",
       "\n",
       "    .dataframe thead th {\n",
       "        text-align: right;\n",
       "    }\n",
       "</style>\n",
       "<table border=\"1\" class=\"dataframe\">\n",
       "  <thead>\n",
       "    <tr style=\"text-align: right;\">\n",
       "      <th></th>\n",
       "      <th>league_id</th>\n",
       "      <th>season</th>\n",
       "      <th>date</th>\n",
       "      <th>stage</th>\n",
       "      <th>match_id</th>\n",
       "      <th>team_id</th>\n",
       "      <th>goal</th>\n",
       "      <th>home</th>\n",
       "      <th>m_rating</th>\n",
       "      <th>current_m_rating</th>\n",
       "    </tr>\n",
       "  </thead>\n",
       "  <tbody>\n",
       "    <tr>\n",
       "      <th>26237</th>\n",
       "      <td>1</td>\n",
       "      <td>2008/2009</td>\n",
       "      <td>2008-08-17</td>\n",
       "      <td>1.0</td>\n",
       "      <td>492473</td>\n",
       "      <td>9993</td>\n",
       "      <td>1.0</td>\n",
       "      <td>0</td>\n",
       "      <td>0.0</td>\n",
       "      <td>0.0</td>\n",
       "    </tr>\n",
       "    <tr>\n",
       "      <th>6</th>\n",
       "      <td>1</td>\n",
       "      <td>2008/2009</td>\n",
       "      <td>2008-08-17</td>\n",
       "      <td>1.0</td>\n",
       "      <td>492473</td>\n",
       "      <td>9987</td>\n",
       "      <td>1.0</td>\n",
       "      <td>1</td>\n",
       "      <td>0.0</td>\n",
       "      <td>0.0</td>\n",
       "    </tr>\n",
       "    <tr>\n",
       "      <th>26231</th>\n",
       "      <td>1</td>\n",
       "      <td>2008/2009</td>\n",
       "      <td>2008-08-16</td>\n",
       "      <td>1.0</td>\n",
       "      <td>492474</td>\n",
       "      <td>9994</td>\n",
       "      <td>0.0</td>\n",
       "      <td>0</td>\n",
       "      <td>0.0</td>\n",
       "      <td>0.0</td>\n",
       "    </tr>\n",
       "    <tr>\n",
       "      <th>0</th>\n",
       "      <td>1</td>\n",
       "      <td>2008/2009</td>\n",
       "      <td>2008-08-16</td>\n",
       "      <td>1.0</td>\n",
       "      <td>492474</td>\n",
       "      <td>10000</td>\n",
       "      <td>0.0</td>\n",
       "      <td>1</td>\n",
       "      <td>0.0</td>\n",
       "      <td>0.0</td>\n",
       "    </tr>\n",
       "    <tr>\n",
       "      <th>26232</th>\n",
       "      <td>1</td>\n",
       "      <td>2008/2009</td>\n",
       "      <td>2008-08-16</td>\n",
       "      <td>1.0</td>\n",
       "      <td>492475</td>\n",
       "      <td>8635</td>\n",
       "      <td>3.0</td>\n",
       "      <td>0</td>\n",
       "      <td>3.0</td>\n",
       "      <td>0.0</td>\n",
       "    </tr>\n",
       "  </tbody>\n",
       "</table>\n",
       "</div>"
      ],
      "text/plain": [
       "       league_id     season        date  stage  match_id  team_id  goal  home  \\\n",
       "26237          1  2008/2009  2008-08-17    1.0    492473     9993   1.0     0   \n",
       "6              1  2008/2009  2008-08-17    1.0    492473     9987   1.0     1   \n",
       "26231          1  2008/2009  2008-08-16    1.0    492474     9994   0.0     0   \n",
       "0              1  2008/2009  2008-08-16    1.0    492474    10000   0.0     1   \n",
       "26232          1  2008/2009  2008-08-16    1.0    492475     8635   3.0     0   \n",
       "\n",
       "       m_rating  current_m_rating  \n",
       "26237       0.0               0.0  \n",
       "6           0.0               0.0  \n",
       "26231       0.0               0.0  \n",
       "0           0.0               0.0  \n",
       "26232       3.0               0.0  "
      ]
     },
     "execution_count": 12,
     "metadata": {},
     "output_type": "execute_result"
    }
   ],
   "source": [
    "rating_df.head()"
   ]
  },
  {
   "cell_type": "code",
   "execution_count": 13,
   "metadata": {},
   "outputs": [],
   "source": [
    "rating_df.to_csv(dir + \"rating_df.csv\")"
   ]
  },
  {
   "cell_type": "code",
   "execution_count": null,
   "metadata": {},
   "outputs": [],
   "source": []
  },
  {
   "cell_type": "code",
   "execution_count": null,
   "metadata": {},
   "outputs": [],
   "source": []
  }
 ],
 "metadata": {
  "kernelspec": {
   "display_name": "Python 3",
   "language": "python",
   "name": "python3"
  },
  "language_info": {
   "codemirror_mode": {
    "name": "ipython",
    "version": 3
   },
   "file_extension": ".py",
   "mimetype": "text/x-python",
   "name": "python",
   "nbconvert_exporter": "python",
   "pygments_lexer": "ipython3",
   "version": "3.8.3"
  }
 },
 "nbformat": 4,
 "nbformat_minor": 4
}
