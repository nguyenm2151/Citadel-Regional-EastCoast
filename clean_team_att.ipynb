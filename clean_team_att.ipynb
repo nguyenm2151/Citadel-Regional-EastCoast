{
 "cells": [
  {
   "cell_type": "code",
   "execution_count": 100,
   "metadata": {},
   "outputs": [],
   "source": [
    "import pandas as pd\n",
    "import numpy as np\n",
    "import os\n",
    "from sklearn.impute import KNNImputer\n",
    "import matplotlib.pyplot as plt"
   ]
  },
  {
   "cell_type": "code",
   "execution_count": 101,
   "metadata": {},
   "outputs": [],
   "source": [
    "dir = \"\""
   ]
  },
  {
   "cell_type": "code",
   "execution_count": 102,
   "metadata": {},
   "outputs": [],
   "source": [
    "team_att_df = pd.read_csv(dir + \"team_attributes.csv\")\n",
    "\n",
    "league_df = pd.read_csv(dir + \"league.csv\")\n",
    "\n",
    "player_att_match_df = pd.read_csv(dir+\"player_attributes_by_match.csv\")\n",
    "player_att_match_df = player_att_match_df.drop('Unnamed: 0', axis=1)\n",
    "\n",
    "team_df = pd.read_csv(dir + \"team.csv\", encoding = \"ISO-8859-1\")"
   ]
  },
  {
   "cell_type": "code",
   "execution_count": 103,
   "metadata": {},
   "outputs": [
    {
     "data": {
      "text/html": [
       "<div>\n",
       "<style scoped>\n",
       "    .dataframe tbody tr th:only-of-type {\n",
       "        vertical-align: middle;\n",
       "    }\n",
       "\n",
       "    .dataframe tbody tr th {\n",
       "        vertical-align: top;\n",
       "    }\n",
       "\n",
       "    .dataframe thead th {\n",
       "        text-align: right;\n",
       "    }\n",
       "</style>\n",
       "<table border=\"1\" class=\"dataframe\">\n",
       "  <thead>\n",
       "    <tr style=\"text-align: right;\">\n",
       "      <th></th>\n",
       "      <th>team_id</th>\n",
       "      <th>date</th>\n",
       "      <th>buildUpPlaySpeed</th>\n",
       "      <th>buildUpPlaySpeedClass</th>\n",
       "      <th>buildUpPlayDribbling</th>\n",
       "      <th>buildUpPlayDribblingClass</th>\n",
       "      <th>buildUpPlayPassing</th>\n",
       "      <th>buildUpPlayPassingClass</th>\n",
       "      <th>buildUpPlayPositioningClass</th>\n",
       "      <th>chanceCreationPassing</th>\n",
       "      <th>...</th>\n",
       "      <th>chanceCreationShooting</th>\n",
       "      <th>chanceCreationShootingClass</th>\n",
       "      <th>chanceCreationPositioningClass</th>\n",
       "      <th>defencePressure</th>\n",
       "      <th>defencePressureClass</th>\n",
       "      <th>defenceAggression</th>\n",
       "      <th>defenceAggressionClass</th>\n",
       "      <th>defenceTeamWidth</th>\n",
       "      <th>defenceTeamWidthClass</th>\n",
       "      <th>defenceDefenderLineClass</th>\n",
       "    </tr>\n",
       "  </thead>\n",
       "  <tbody>\n",
       "    <tr>\n",
       "      <th>0</th>\n",
       "      <td>9930</td>\n",
       "      <td>2/22/10 0:00</td>\n",
       "      <td>60</td>\n",
       "      <td>Balanced</td>\n",
       "      <td>NaN</td>\n",
       "      <td>Little</td>\n",
       "      <td>50</td>\n",
       "      <td>Mixed</td>\n",
       "      <td>Organised</td>\n",
       "      <td>60</td>\n",
       "      <td>...</td>\n",
       "      <td>55</td>\n",
       "      <td>Normal</td>\n",
       "      <td>Organised</td>\n",
       "      <td>50</td>\n",
       "      <td>Medium</td>\n",
       "      <td>55</td>\n",
       "      <td>Press</td>\n",
       "      <td>45</td>\n",
       "      <td>Normal</td>\n",
       "      <td>Cover</td>\n",
       "    </tr>\n",
       "    <tr>\n",
       "      <th>1</th>\n",
       "      <td>9930</td>\n",
       "      <td>9/19/14 0:00</td>\n",
       "      <td>52</td>\n",
       "      <td>Balanced</td>\n",
       "      <td>48.0</td>\n",
       "      <td>Normal</td>\n",
       "      <td>56</td>\n",
       "      <td>Mixed</td>\n",
       "      <td>Organised</td>\n",
       "      <td>54</td>\n",
       "      <td>...</td>\n",
       "      <td>64</td>\n",
       "      <td>Normal</td>\n",
       "      <td>Organised</td>\n",
       "      <td>47</td>\n",
       "      <td>Medium</td>\n",
       "      <td>44</td>\n",
       "      <td>Press</td>\n",
       "      <td>54</td>\n",
       "      <td>Normal</td>\n",
       "      <td>Cover</td>\n",
       "    </tr>\n",
       "    <tr>\n",
       "      <th>2</th>\n",
       "      <td>9930</td>\n",
       "      <td>9/10/15 0:00</td>\n",
       "      <td>47</td>\n",
       "      <td>Balanced</td>\n",
       "      <td>41.0</td>\n",
       "      <td>Normal</td>\n",
       "      <td>54</td>\n",
       "      <td>Mixed</td>\n",
       "      <td>Organised</td>\n",
       "      <td>54</td>\n",
       "      <td>...</td>\n",
       "      <td>64</td>\n",
       "      <td>Normal</td>\n",
       "      <td>Organised</td>\n",
       "      <td>47</td>\n",
       "      <td>Medium</td>\n",
       "      <td>44</td>\n",
       "      <td>Press</td>\n",
       "      <td>54</td>\n",
       "      <td>Normal</td>\n",
       "      <td>Cover</td>\n",
       "    </tr>\n",
       "    <tr>\n",
       "      <th>3</th>\n",
       "      <td>8485</td>\n",
       "      <td>2/22/10 0:00</td>\n",
       "      <td>70</td>\n",
       "      <td>Fast</td>\n",
       "      <td>NaN</td>\n",
       "      <td>Little</td>\n",
       "      <td>70</td>\n",
       "      <td>Long</td>\n",
       "      <td>Organised</td>\n",
       "      <td>70</td>\n",
       "      <td>...</td>\n",
       "      <td>70</td>\n",
       "      <td>Lots</td>\n",
       "      <td>Organised</td>\n",
       "      <td>60</td>\n",
       "      <td>Medium</td>\n",
       "      <td>70</td>\n",
       "      <td>Double</td>\n",
       "      <td>70</td>\n",
       "      <td>Wide</td>\n",
       "      <td>Cover</td>\n",
       "    </tr>\n",
       "    <tr>\n",
       "      <th>4</th>\n",
       "      <td>8485</td>\n",
       "      <td>2/22/11 0:00</td>\n",
       "      <td>47</td>\n",
       "      <td>Balanced</td>\n",
       "      <td>NaN</td>\n",
       "      <td>Little</td>\n",
       "      <td>52</td>\n",
       "      <td>Mixed</td>\n",
       "      <td>Organised</td>\n",
       "      <td>53</td>\n",
       "      <td>...</td>\n",
       "      <td>52</td>\n",
       "      <td>Normal</td>\n",
       "      <td>Organised</td>\n",
       "      <td>47</td>\n",
       "      <td>Medium</td>\n",
       "      <td>47</td>\n",
       "      <td>Press</td>\n",
       "      <td>52</td>\n",
       "      <td>Normal</td>\n",
       "      <td>Cover</td>\n",
       "    </tr>\n",
       "  </tbody>\n",
       "</table>\n",
       "<p>5 rows × 23 columns</p>\n",
       "</div>"
      ],
      "text/plain": [
       "   team_id          date  buildUpPlaySpeed buildUpPlaySpeedClass  \\\n",
       "0     9930  2/22/10 0:00                60              Balanced   \n",
       "1     9930  9/19/14 0:00                52              Balanced   \n",
       "2     9930  9/10/15 0:00                47              Balanced   \n",
       "3     8485  2/22/10 0:00                70                  Fast   \n",
       "4     8485  2/22/11 0:00                47              Balanced   \n",
       "\n",
       "   buildUpPlayDribbling buildUpPlayDribblingClass  buildUpPlayPassing  \\\n",
       "0                   NaN                    Little                  50   \n",
       "1                  48.0                    Normal                  56   \n",
       "2                  41.0                    Normal                  54   \n",
       "3                   NaN                    Little                  70   \n",
       "4                   NaN                    Little                  52   \n",
       "\n",
       "  buildUpPlayPassingClass buildUpPlayPositioningClass  chanceCreationPassing  \\\n",
       "0                   Mixed                   Organised                     60   \n",
       "1                   Mixed                   Organised                     54   \n",
       "2                   Mixed                   Organised                     54   \n",
       "3                    Long                   Organised                     70   \n",
       "4                   Mixed                   Organised                     53   \n",
       "\n",
       "   ... chanceCreationShooting  chanceCreationShootingClass  \\\n",
       "0  ...                     55                       Normal   \n",
       "1  ...                     64                       Normal   \n",
       "2  ...                     64                       Normal   \n",
       "3  ...                     70                         Lots   \n",
       "4  ...                     52                       Normal   \n",
       "\n",
       "  chanceCreationPositioningClass  defencePressure defencePressureClass  \\\n",
       "0                      Organised               50               Medium   \n",
       "1                      Organised               47               Medium   \n",
       "2                      Organised               47               Medium   \n",
       "3                      Organised               60               Medium   \n",
       "4                      Organised               47               Medium   \n",
       "\n",
       "  defenceAggression  defenceAggressionClass defenceTeamWidth  \\\n",
       "0                55                   Press               45   \n",
       "1                44                   Press               54   \n",
       "2                44                   Press               54   \n",
       "3                70                  Double               70   \n",
       "4                47                   Press               52   \n",
       "\n",
       "   defenceTeamWidthClass defenceDefenderLineClass  \n",
       "0                 Normal                    Cover  \n",
       "1                 Normal                    Cover  \n",
       "2                 Normal                    Cover  \n",
       "3                   Wide                    Cover  \n",
       "4                 Normal                    Cover  \n",
       "\n",
       "[5 rows x 23 columns]"
      ]
     },
     "execution_count": 103,
     "metadata": {},
     "output_type": "execute_result"
    }
   ],
   "source": [
    "team_att_df.head()"
   ]
  },
  {
   "cell_type": "code",
   "execution_count": 104,
   "metadata": {},
   "outputs": [],
   "source": [
    "team_att_df[\"date\"] = pd.to_datetime(team_att_df[\"date\"])\n",
    "\n",
    "team_att_df['year'] = team_att_df['date'].dt.year"
   ]
  },
  {
   "cell_type": "code",
   "execution_count": 105,
   "metadata": {},
   "outputs": [
    {
     "data": {
      "text/plain": [
       "1    1456\n",
       "2       1\n",
       "dtype: int64"
      ]
     },
     "execution_count": 105,
     "metadata": {},
     "output_type": "execute_result"
    }
   ],
   "source": [
    "team_att_df.groupby([\"team_id\", \"date\"]).size().value_counts()"
   ]
  },
  {
   "cell_type": "code",
   "execution_count": 106,
   "metadata": {},
   "outputs": [
    {
     "data": {
      "text/plain": [
       "6    189\n",
       "5     28\n",
       "3     20\n",
       "2     19\n",
       "4     18\n",
       "1     14\n",
       "dtype: int64"
      ]
     },
     "execution_count": 106,
     "metadata": {},
     "output_type": "execute_result"
    }
   ],
   "source": [
    "team_att_df.groupby(\"team_id\").size().value_counts()"
   ]
  },
  {
   "cell_type": "code",
   "execution_count": 107,
   "metadata": {},
   "outputs": [
    {
     "data": {
      "text/plain": [
       "6    189\n",
       "5     28\n",
       "3     20\n",
       "4     18\n",
       "2     18\n",
       "1     15\n",
       "Name: year, dtype: int64"
      ]
     },
     "execution_count": 107,
     "metadata": {},
     "output_type": "execute_result"
    }
   ],
   "source": [
    "team_att_df.groupby(\"team_id\")['year'].nunique().value_counts()"
   ]
  },
  {
   "cell_type": "code",
   "execution_count": 108,
   "metadata": {},
   "outputs": [],
   "source": [
    "team_att_df = team_att_df.drop(['year'], axis=1)"
   ]
  },
  {
   "cell_type": "code",
   "execution_count": 109,
   "metadata": {},
   "outputs": [
    {
     "data": {
      "text/plain": [
       "(1458, 23)"
      ]
     },
     "execution_count": 109,
     "metadata": {},
     "output_type": "execute_result"
    }
   ],
   "source": [
    "team_att_df.shape"
   ]
  },
  {
   "cell_type": "code",
   "execution_count": 110,
   "metadata": {},
   "outputs": [
    {
     "data": {
      "text/plain": [
       "team_id                             0\n",
       "date                                0\n",
       "buildUpPlaySpeed                    0\n",
       "buildUpPlaySpeedClass               0\n",
       "buildUpPlayDribbling              969\n",
       "buildUpPlayDribblingClass           0\n",
       "buildUpPlayPassing                  0\n",
       "buildUpPlayPassingClass             0\n",
       "buildUpPlayPositioningClass         0\n",
       "chanceCreationPassing               0\n",
       "chanceCreationPassingClass          0\n",
       "chanceCreationCrossing              0\n",
       "chanceCreationCrossingClass         0\n",
       "chanceCreationShooting              0\n",
       "chanceCreationShootingClass         0\n",
       "chanceCreationPositioningClass      0\n",
       "defencePressure                     0\n",
       "defencePressureClass                0\n",
       "defenceAggression                   0\n",
       "defenceAggressionClass              0\n",
       "defenceTeamWidth                    0\n",
       "defenceTeamWidthClass               0\n",
       "defenceDefenderLineClass            0\n",
       "dtype: int64"
      ]
     },
     "execution_count": 110,
     "metadata": {},
     "output_type": "execute_result"
    }
   ],
   "source": [
    "team_att_df.isnull().sum()"
   ]
  },
  {
   "cell_type": "code",
   "execution_count": 111,
   "metadata": {},
   "outputs": [
    {
     "data": {
      "image/png": "[encoded data removed]",
      "text/plain": [
       "<Figure size 432x288 with 1 Axes>"
      ]
     },
     "metadata": {
      "needs_background": "light"
     },
     "output_type": "display_data"
    },
    {
     "data": {
      "image/png": "[encoded data removed]",
      "text/plain": [
       "<Figure size 432x288 with 1 Axes>"
      ]
     },
     "metadata": {
      "needs_background": "light"
     },
     "output_type": "display_data"
    },
    {
     "data": {
      "image/png": "[encoded data removed]",
      "text/plain": [
       "<Figure size 432x288 with 1 Axes>"
      ]
     },
     "metadata": {
      "needs_background": "light"
     },
     "output_type": "display_data"
    },
    {
     "data": {
      "image/png": "[encoded data removed]",
      "text/plain": [
       "<Figure size 432x288 with 1 Axes>"
      ]
     },
     "metadata": {
      "needs_background": "light"
     },
     "output_type": "display_data"
    },
    {
     "data": {
      "image/png": "[encoded data removed]",
      "text/plain": [
       "<Figure size 432x288 with 1 Axes>"
      ]
     },
     "metadata": {
      "needs_background": "light"
     },
     "output_type": "display_data"
    },
    {
     "data": {
      "image/png": "[encoded data removed]",
      "text/plain": [
       "<Figure size 432x288 with 1 Axes>"
      ]
     },
     "metadata": {
      "needs_background": "light"
     },
     "output_type": "display_data"
    },
    {
     "data": {
      "image/png": "[encoded data removed]",
      "text/plain": [
       "<Figure size 432x288 with 1 Axes>"
      ]
     },
     "metadata": {
      "needs_background": "light"
     },
     "output_type": "display_data"
    },
    {
     "data": {
      "image/png": "[encoded data removed]",
      "text/plain": [
       "<Figure size 432x288 with 1 Axes>"
      ]
     },
     "metadata": {
      "needs_background": "light"
     },
     "output_type": "display_data"
    },
    {
     "data": {
      "image/png": "[encoded data removed]",
      "text/plain": [
       "<Figure size 432x288 with 1 Axes>"
      ]
     },
     "metadata": {
      "needs_background": "light"
     },
     "output_type": "display_data"
    }
   ],
   "source": [
    "numeric_cols = team_att_df.select_dtypes([np.number]).columns\n",
    "numeric_cols = [col for col in numeric_cols if col not in [\"date\", \"team_id\", \"player_id\", \"year\"]]\n",
    "numeric_cols\n",
    "\n",
    "for col in numeric_cols:\n",
    "    team_att_df[col].hist()\n",
    "    plt.show()"
   ]
  },
  {
   "cell_type": "code",
   "execution_count": 112,
   "metadata": {},
   "outputs": [
    {
     "data": {
      "text/plain": [
       "buildUpPlaySpeedClass\n",
       "Balanced    51.925676\n",
       "Fast        69.767442\n",
       "Slow        29.509804\n",
       "Name: buildUpPlaySpeed, dtype: float64"
      ]
     },
     "execution_count": 112,
     "metadata": {},
     "output_type": "execute_result"
    }
   ],
   "source": [
    "team_att_df.groupby(\"buildUpPlaySpeedClass\")[\"buildUpPlaySpeed\"].mean()"
   ]
  },
  {
   "cell_type": "code",
   "execution_count": 113,
   "metadata": {},
   "outputs": [
    {
     "data": {
      "text/plain": [
       "buildUpPlayPassingClass\n",
       "Long     70.234043\n",
       "Mixed    48.773463\n",
       "Short    29.789062\n",
       "Name: buildUpPlayPassing, dtype: float64"
      ]
     },
     "execution_count": 113,
     "metadata": {},
     "output_type": "execute_result"
    }
   ],
   "source": [
    "team_att_df.groupby(\"buildUpPlayPassingClass\")[\"buildUpPlayPassing\"].mean()"
   ]
  },
  {
   "cell_type": "code",
   "execution_count": 114,
   "metadata": {},
   "outputs": [],
   "source": [
    "#team_att_df.groupby(\"buildUpPlayPositioningClass\")[\"buildUpPlayPositioning\"].mean()"
   ]
  },
  {
   "cell_type": "code",
   "execution_count": 115,
   "metadata": {},
   "outputs": [
    {
     "data": {
      "text/plain": [
       "chanceCreationPassingClass\n",
       "Normal    50.762794\n",
       "Risky     69.409357\n",
       "Safe      30.339286\n",
       "Name: chanceCreationPassing, dtype: float64"
      ]
     },
     "execution_count": 115,
     "metadata": {},
     "output_type": "execute_result"
    }
   ],
   "source": [
    "team_att_df.groupby(\"chanceCreationPassingClass\")[\"chanceCreationPassing\"].mean()"
   ]
  },
  {
   "cell_type": "code",
   "execution_count": 116,
   "metadata": {},
   "outputs": [
    {
     "data": {
      "text/plain": [
       "chanceCreationCrossingClass\n",
       "Little    29.711538\n",
       "Lots      70.127962\n",
       "Normal    51.882008\n",
       "Name: chanceCreationCrossing, dtype: float64"
      ]
     },
     "execution_count": 116,
     "metadata": {},
     "output_type": "execute_result"
    }
   ],
   "source": [
    "team_att_df.groupby(\"chanceCreationCrossingClass\")[\"chanceCreationCrossing\"].mean()"
   ]
  },
  {
   "cell_type": "code",
   "execution_count": 117,
   "metadata": {},
   "outputs": [
    {
     "data": {
      "text/plain": [
       "chanceCreationShootingClass\n",
       "Little    29.513514\n",
       "Lots      70.091371\n",
       "Normal    52.113562\n",
       "Name: chanceCreationShooting, dtype: float64"
      ]
     },
     "execution_count": 117,
     "metadata": {},
     "output_type": "execute_result"
    }
   ],
   "source": [
    "team_att_df.groupby(\"chanceCreationShootingClass\")[\"chanceCreationShooting\"].mean()"
   ]
  },
  {
   "cell_type": "code",
   "execution_count": 118,
   "metadata": {},
   "outputs": [],
   "source": [
    "#team_att_df.groupby(\"chanceCreationPositioningClass\")[\"chanceCreationPositioning\"].mean()"
   ]
  },
  {
   "cell_type": "code",
   "execution_count": 119,
   "metadata": {},
   "outputs": [
    {
     "data": {
      "text/plain": [
       "defencePressureClass\n",
       "Deep      29.636364\n",
       "High      69.819672\n",
       "Medium    46.878520\n",
       "Name: defencePressure, dtype: float64"
      ]
     },
     "execution_count": 119,
     "metadata": {},
     "output_type": "execute_result"
    }
   ],
   "source": [
    "team_att_df.groupby(\"defencePressureClass\")[\"defencePressure\"].mean()"
   ]
  },
  {
   "cell_type": "code",
   "execution_count": 120,
   "metadata": {},
   "outputs": [
    {
     "data": {
      "text/plain": [
       "defenceAggressionClass\n",
       "Contain    30.082353\n",
       "Double     69.727273\n",
       "Press      48.938776\n",
       "Name: defenceAggression, dtype: float64"
      ]
     },
     "execution_count": 120,
     "metadata": {},
     "output_type": "execute_result"
    }
   ],
   "source": [
    "team_att_df.groupby(\"defenceAggressionClass\")[\"defenceAggression\"].mean()"
   ]
  },
  {
   "cell_type": "code",
   "execution_count": 121,
   "metadata": {},
   "outputs": [
    {
     "data": {
      "text/plain": [
       "defenceTeamWidthClass\n",
       "Narrow    30.245902\n",
       "Normal    51.756610\n",
       "Wide      69.216216\n",
       "Name: defenceTeamWidth, dtype: float64"
      ]
     },
     "execution_count": 121,
     "metadata": {},
     "output_type": "execute_result"
    }
   ],
   "source": [
    "team_att_df.groupby(\"defenceTeamWidthClass\")[\"defenceTeamWidth\"].mean()"
   ]
  },
  {
   "cell_type": "code",
   "execution_count": 122,
   "metadata": {},
   "outputs": [
    {
     "data": {
      "text/plain": [
       "['buildUpPlaySpeedClass',\n",
       " 'buildUpPlayDribblingClass',\n",
       " 'buildUpPlayPassingClass',\n",
       " 'buildUpPlayPositioningClass',\n",
       " 'chanceCreationPassingClass',\n",
       " 'chanceCreationCrossingClass',\n",
       " 'chanceCreationShootingClass',\n",
       " 'chanceCreationPositioningClass',\n",
       " 'defencePressureClass',\n",
       " 'defenceAggressionClass',\n",
       " 'defenceTeamWidthClass',\n",
       " 'defenceDefenderLineClass']"
      ]
     },
     "execution_count": 122,
     "metadata": {},
     "output_type": "execute_result"
    }
   ],
   "source": [
    "[c for c in team_att_df.columns if \"Class\" in c]"
   ]
  },
  {
   "cell_type": "code",
   "execution_count": 123,
   "metadata": {},
   "outputs": [
    {
     "data": {
      "text/plain": [
       "buildUpPlayPositioningClass\n",
       "Free Form      72\n",
       "Organised    1386\n",
       "dtype: int64"
      ]
     },
     "execution_count": 123,
     "metadata": {},
     "output_type": "execute_result"
    }
   ],
   "source": [
    "team_att_df.groupby(\"buildUpPlayPositioningClass\").size()"
   ]
  },
  {
   "cell_type": "code",
   "execution_count": 124,
   "metadata": {},
   "outputs": [
    {
     "data": {
      "text/plain": [
       "defenceDefenderLineClass\n",
       "Cover           1362\n",
       "Offside Trap      96\n",
       "dtype: int64"
      ]
     },
     "execution_count": 124,
     "metadata": {},
     "output_type": "execute_result"
    }
   ],
   "source": [
    "team_att_df.groupby(\"defenceDefenderLineClass\").size()"
   ]
  },
  {
   "cell_type": "code",
   "execution_count": 125,
   "metadata": {},
   "outputs": [
    {
     "name": "stdout",
     "output_type": "stream",
     "text": [
      "   team_id buildUpPlayDribblingClass  buildUpPlayDribbling\n",
      "0     1601                    Little                   NaN\n",
      "1     1601                    Normal                  48.0\n",
      "-------------------------------\n",
      "   team_id buildUpPlayDribblingClass  buildUpPlayDribbling\n",
      "2     1773                    Little                   NaN\n",
      "3     1773                    Normal                  51.0\n",
      "-------------------------------\n",
      "   team_id buildUpPlayDribblingClass  buildUpPlayDribbling\n",
      "4     1957                    Little                   NaN\n",
      "5     1957                    Normal                  54.0\n",
      "-------------------------------\n",
      "   team_id buildUpPlayDribblingClass  buildUpPlayDribbling\n",
      "6     2033                    Little                   NaN\n",
      "7     2033                    Normal                  62.0\n",
      "-------------------------------\n",
      "   team_id buildUpPlayDribblingClass  buildUpPlayDribbling\n",
      "8     2182                    Little                   NaN\n",
      "9     2182                    Normal                  52.5\n",
      "-------------------------------\n",
      "    team_id buildUpPlayDribblingClass  buildUpPlayDribbling\n",
      "10     2183                    Little                   NaN\n",
      "-------------------------------\n",
      "    team_id buildUpPlayDribblingClass  buildUpPlayDribbling\n",
      "11     2186                    Little                   NaN\n",
      "12     2186                    Normal                  50.0\n",
      "-------------------------------\n",
      "    team_id buildUpPlayDribblingClass  buildUpPlayDribbling\n",
      "13     4087                    Little                   NaN\n",
      "14     4087                    Normal                  43.0\n",
      "-------------------------------\n",
      "    team_id buildUpPlayDribblingClass  buildUpPlayDribbling\n",
      "15     4170                    Little                   NaN\n",
      "-------------------------------\n",
      "    team_id buildUpPlayDribblingClass  buildUpPlayDribbling\n",
      "16     6269                    Little                   NaN\n",
      "17     6269                    Normal                  57.0\n",
      "-------------------------------\n",
      "    team_id buildUpPlayDribblingClass  buildUpPlayDribbling\n",
      "18     6351                    Little                   NaN\n",
      "-------------------------------\n",
      "    team_id buildUpPlayDribblingClass  buildUpPlayDribbling\n",
      "19     6391                    Little                   NaN\n",
      "20     6391                    Normal                  53.0\n",
      "-------------------------------\n",
      "    team_id buildUpPlayDribblingClass  buildUpPlayDribbling\n",
      "21     6403                    Little                   NaN\n",
      "22     6403                    Normal                  40.0\n",
      "-------------------------------\n",
      "    team_id buildUpPlayDribblingClass  buildUpPlayDribbling\n",
      "23     6413                    Little                   NaN\n",
      "24     6413                    Normal                  38.0\n",
      "-------------------------------\n",
      "    team_id buildUpPlayDribblingClass  buildUpPlayDribbling\n",
      "25     6421                    Little                   NaN\n",
      "-------------------------------\n",
      "    team_id buildUpPlayDribblingClass  buildUpPlayDribbling\n",
      "26     6433                    Normal                  42.5\n",
      "-------------------------------\n",
      "    team_id buildUpPlayDribblingClass  buildUpPlayDribbling\n",
      "27     6493                    Little                   NaN\n",
      "-------------------------------\n",
      "    team_id buildUpPlayDribblingClass  buildUpPlayDribbling\n",
      "28     6547                    Normal                  54.0\n",
      "-------------------------------\n",
      "    team_id buildUpPlayDribblingClass  buildUpPlayDribbling\n",
      "29     6631                    Little                  33.0\n",
      "-------------------------------\n",
      "    team_id buildUpPlayDribblingClass  buildUpPlayDribbling\n",
      "30     7730                    Little                   NaN\n",
      "31     7730                    Normal                  55.0\n",
      "-------------------------------\n",
      "    team_id buildUpPlayDribblingClass  buildUpPlayDribbling\n",
      "32     7788                    Normal                  37.5\n",
      "-------------------------------\n",
      "    team_id buildUpPlayDribblingClass  buildUpPlayDribbling\n",
      "33     7794                    Little                   NaN\n",
      "34     7794                    Normal                  61.0\n",
      "-------------------------------\n",
      "    team_id buildUpPlayDribblingClass  buildUpPlayDribbling\n",
      "35     7819                    Little                   NaN\n",
      "36     7819                    Normal                  50.0\n",
      "-------------------------------\n",
      "    team_id buildUpPlayDribblingClass  buildUpPlayDribbling\n",
      "37     7841                    Little                   NaN\n",
      "38     7841                    Normal                  47.0\n",
      "-------------------------------\n",
      "    team_id buildUpPlayDribblingClass  buildUpPlayDribbling\n",
      "39     7842                    Little                   NaN\n",
      "40     7842                    Normal                  56.0\n",
      "-------------------------------\n",
      "    team_id buildUpPlayDribblingClass  buildUpPlayDribbling\n",
      "41     7844                    Little                   NaN\n",
      "42     7844                    Normal                  52.0\n",
      "-------------------------------\n",
      "    team_id buildUpPlayDribblingClass  buildUpPlayDribbling\n",
      "43     7869                    Little                   NaN\n",
      "44     7869                    Normal                  46.5\n",
      "-------------------------------\n",
      "    team_id buildUpPlayDribblingClass  buildUpPlayDribbling\n",
      "45     7878                    Little                   NaN\n",
      "46     7878                    Normal                  56.0\n",
      "-------------------------------\n",
      "    team_id buildUpPlayDribblingClass  buildUpPlayDribbling\n",
      "47     7943                    Little                   NaN\n",
      "48     7943                      Lots                  71.0\n",
      "49     7943                    Normal                  65.0\n",
      "-------------------------------\n",
      "    team_id buildUpPlayDribblingClass  buildUpPlayDribbling\n",
      "50     7955                    Little                   NaN\n",
      "-------------------------------\n",
      "    team_id buildUpPlayDribblingClass  buildUpPlayDribbling\n",
      "51     8019                    Normal                  40.0\n",
      "-------------------------------\n",
      "    team_id buildUpPlayDribblingClass  buildUpPlayDribbling\n",
      "52     8020                    Little                   NaN\n",
      "-------------------------------\n",
      "    team_id buildUpPlayDribblingClass  buildUpPlayDribbling\n",
      "53     8021                    Little                   NaN\n",
      "54     8021                    Normal                  49.0\n",
      "-------------------------------\n",
      "    team_id buildUpPlayDribblingClass  buildUpPlayDribbling\n",
      "55     8023                    Little                  33.0\n",
      "56     8023                    Normal                  48.0\n",
      "-------------------------------\n",
      "    team_id buildUpPlayDribblingClass  buildUpPlayDribbling\n",
      "57     8024                    Little                   NaN\n",
      "58     8024                    Normal                  52.0\n",
      "-------------------------------\n",
      "    team_id buildUpPlayDribblingClass  buildUpPlayDribbling\n",
      "59     8025                    Little                   NaN\n",
      "60     8025                    Normal                  54.0\n",
      "-------------------------------\n",
      "    team_id buildUpPlayDribblingClass  buildUpPlayDribbling\n",
      "61     8027                    Normal                  51.0\n",
      "-------------------------------\n",
      "    team_id buildUpPlayDribblingClass  buildUpPlayDribbling\n",
      "62     8028                    Little                   NaN\n",
      "63     8028                    Normal                  52.0\n",
      "-------------------------------\n",
      "    team_id buildUpPlayDribblingClass  buildUpPlayDribbling\n",
      "64     8030                    Little                   NaN\n",
      "65     8030                    Normal                  48.0\n",
      "-------------------------------\n",
      "    team_id buildUpPlayDribblingClass  buildUpPlayDribbling\n",
      "66     8031                    Little                   NaN\n",
      "-------------------------------\n",
      "    team_id buildUpPlayDribblingClass  buildUpPlayDribbling\n",
      "67     8033                    Little                   NaN\n",
      "68     8033                    Normal                  55.0\n",
      "-------------------------------\n",
      "    team_id buildUpPlayDribblingClass  buildUpPlayDribbling\n",
      "69     8066                    Little                   NaN\n",
      "70     8066                    Normal                  48.0\n",
      "-------------------------------\n",
      "    team_id buildUpPlayDribblingClass  buildUpPlayDribbling\n",
      "71     8121                    Little                   NaN\n",
      "72     8121                    Normal                  61.0\n",
      "-------------------------------\n",
      "    team_id buildUpPlayDribblingClass  buildUpPlayDribbling\n",
      "73     8152                    Little                   NaN\n",
      "74     8152                    Normal                  52.0\n",
      "-------------------------------\n",
      "    team_id buildUpPlayDribblingClass  buildUpPlayDribbling\n",
      "75     8165                    Little                   NaN\n",
      "76     8165                    Normal                  60.0\n",
      "-------------------------------\n",
      "    team_id buildUpPlayDribblingClass  buildUpPlayDribbling\n",
      "77     8177                    Little                   NaN\n",
      "78     8177                    Normal                  48.0\n",
      "-------------------------------\n",
      "    team_id buildUpPlayDribblingClass  buildUpPlayDribbling\n",
      "79     8178                    Little                  29.5\n",
      "-------------------------------\n",
      "    team_id buildUpPlayDribblingClass  buildUpPlayDribbling\n",
      "80     8191                    Little                  32.0\n",
      "-------------------------------\n",
      "    team_id buildUpPlayDribblingClass  buildUpPlayDribbling\n",
      "81     8194                    Little                   NaN\n",
      "82     8194                      Lots                  69.0\n",
      "83     8194                    Normal                  62.0\n",
      "-------------------------------\n",
      "    team_id buildUpPlayDribblingClass  buildUpPlayDribbling\n",
      "84     8197                    Little                   NaN\n",
      "85     8197                    Normal                  38.5\n",
      "-------------------------------\n",
      "    team_id buildUpPlayDribblingClass  buildUpPlayDribbling\n",
      "86     8203                    Little                   NaN\n",
      "87     8203                    Normal                  42.0\n",
      "-------------------------------\n",
      "    team_id buildUpPlayDribblingClass  buildUpPlayDribbling\n",
      "88     8226                    Little                   NaN\n",
      "89     8226                    Normal                  49.0\n",
      "-------------------------------\n",
      "    team_id buildUpPlayDribblingClass  buildUpPlayDribbling\n",
      "90     8234                    Little                   NaN\n",
      "91     8234                    Normal                  55.0\n",
      "-------------------------------\n",
      "    team_id buildUpPlayDribblingClass  buildUpPlayDribbling\n",
      "92     8242                    Little                   NaN\n",
      "-------------------------------\n",
      "    team_id buildUpPlayDribblingClass  buildUpPlayDribbling\n",
      "93     8244                    Little                   NaN\n",
      "94     8244                    Normal                  52.0\n",
      "-------------------------------\n",
      "    team_id buildUpPlayDribblingClass  buildUpPlayDribbling\n",
      "95     8245                    Little                   NaN\n",
      "96     8245                      Lots                  69.0\n",
      "-------------------------------\n",
      "    team_id buildUpPlayDribblingClass  buildUpPlayDribbling\n",
      "97     8262                    Normal                  43.0\n",
      "-------------------------------\n",
      "    team_id buildUpPlayDribblingClass  buildUpPlayDribbling\n",
      "98     8277                    Little                   NaN\n",
      "99     8277                    Normal                  47.5\n",
      "-------------------------------\n",
      "     team_id buildUpPlayDribblingClass  buildUpPlayDribbling\n",
      "100     8284                    Little                   NaN\n",
      "101     8284                    Normal                  47.0\n",
      "-------------------------------\n",
      "     team_id buildUpPlayDribblingClass  buildUpPlayDribbling\n",
      "102     8295                    Little                   NaN\n",
      "103     8295                    Normal                  53.5\n",
      "-------------------------------\n",
      "     team_id buildUpPlayDribblingClass  buildUpPlayDribbling\n",
      "104     8302                    Little                   NaN\n",
      "105     8302                    Normal                  53.0\n",
      "-------------------------------\n",
      "     team_id buildUpPlayDribblingClass  buildUpPlayDribbling\n",
      "106     8305                    Little                   NaN\n",
      "107     8305                    Normal                  41.5\n",
      "-------------------------------\n",
      "     team_id buildUpPlayDribblingClass  buildUpPlayDribbling\n",
      "108     8306                    Little                   NaN\n",
      "109     8306                    Normal                  55.0\n",
      "-------------------------------\n",
      "     team_id buildUpPlayDribblingClass  buildUpPlayDribbling\n",
      "110     8315                    Little                   NaN\n",
      "111     8315                    Normal                  43.5\n",
      "-------------------------------\n",
      "     team_id buildUpPlayDribblingClass  buildUpPlayDribbling\n",
      "112     8322                    Little                   NaN\n",
      "-------------------------------\n",
      "     team_id buildUpPlayDribblingClass  buildUpPlayDribbling\n",
      "113     8342                    Little                   NaN\n",
      "114     8342                    Normal                  52.0\n",
      "-------------------------------\n",
      "     team_id buildUpPlayDribblingClass  buildUpPlayDribbling\n",
      "115     8344                    Little                  29.0\n",
      "116     8344                    Normal                  41.0\n",
      "-------------------------------\n",
      "     team_id buildUpPlayDribblingClass  buildUpPlayDribbling\n",
      "117     8348                    Little                   NaN\n",
      "118     8348                    Normal                  58.0\n",
      "-------------------------------\n",
      "     team_id buildUpPlayDribblingClass  buildUpPlayDribbling\n",
      "119     8350                    Little                   NaN\n",
      "120     8350                    Normal                  51.0\n",
      "-------------------------------\n",
      "     team_id buildUpPlayDribblingClass  buildUpPlayDribbling\n",
      "121     8357                    Little                   NaN\n",
      "122     8357                    Normal                  60.0\n",
      "-------------------------------\n",
      "     team_id buildUpPlayDribblingClass  buildUpPlayDribbling\n",
      "123     8358                    Little                   NaN\n",
      "124     8358                    Normal                  56.0\n",
      "-------------------------------\n",
      "     team_id buildUpPlayDribblingClass  buildUpPlayDribbling\n",
      "125     8370                    Little                   NaN\n",
      "126     8370                    Normal                  52.0\n",
      "-------------------------------\n",
      "     team_id buildUpPlayDribblingClass  buildUpPlayDribbling\n",
      "127     8371                    Little                   NaN\n",
      "128     8371                    Normal                  53.0\n",
      "-------------------------------\n",
      "     team_id buildUpPlayDribblingClass  buildUpPlayDribbling\n",
      "129     8372                    Normal                  51.0\n",
      "-------------------------------\n",
      "     team_id buildUpPlayDribblingClass  buildUpPlayDribbling\n",
      "130     8388                    Little                   NaN\n",
      "131     8388                    Normal                  48.0\n",
      "-------------------------------\n",
      "     team_id buildUpPlayDribblingClass  buildUpPlayDribbling\n",
      "132     8394                    Little                   NaN\n",
      "133     8394                    Normal                  50.0\n",
      "-------------------------------\n",
      "     team_id buildUpPlayDribblingClass  buildUpPlayDribbling\n",
      "134     8398                    Little                   NaN\n",
      "135     8398                    Normal                  47.0\n",
      "-------------------------------\n",
      "     team_id buildUpPlayDribblingClass  buildUpPlayDribbling\n",
      "136     8406                    Little                   NaN\n",
      "137     8406                    Normal                  44.5\n",
      "-------------------------------\n",
      "     team_id buildUpPlayDribblingClass  buildUpPlayDribbling\n",
      "138     8426                    Normal                  49.0\n",
      "-------------------------------\n",
      "     team_id buildUpPlayDribblingClass  buildUpPlayDribbling\n",
      "139     8429                    Little                   NaN\n",
      "140     8429                    Normal                  48.0\n",
      "-------------------------------\n",
      "     team_id buildUpPlayDribblingClass  buildUpPlayDribbling\n",
      "141     8455                    Little                   NaN\n",
      "142     8455                    Normal                  46.5\n",
      "-------------------------------\n",
      "     team_id buildUpPlayDribblingClass  buildUpPlayDribbling\n",
      "143     8456                    Little                   NaN\n",
      "144     8456                    Normal                  35.0\n",
      "-------------------------------\n",
      "     team_id buildUpPlayDribblingClass  buildUpPlayDribbling\n",
      "145     8457                    Little                   NaN\n",
      "-------------------------------\n",
      "     team_id buildUpPlayDribblingClass  buildUpPlayDribbling\n",
      "146     8460                    Little                   NaN\n",
      "147     8460                    Normal                  46.0\n",
      "-------------------------------\n",
      "     team_id buildUpPlayDribblingClass  buildUpPlayDribbling\n",
      "148     8462                    Little                  32.0\n",
      "-------------------------------\n",
      "     team_id buildUpPlayDribblingClass  buildUpPlayDribbling\n",
      "149     8464                    Little                   NaN\n",
      "150     8464                    Normal                  42.0\n",
      "-------------------------------\n",
      "     team_id buildUpPlayDribblingClass  buildUpPlayDribbling\n",
      "151     8466                    Little                  31.0\n",
      "152     8466                    Normal                  41.0\n",
      "-------------------------------\n",
      "     team_id buildUpPlayDribblingClass  buildUpPlayDribbling\n",
      "153     8467                    Little                   NaN\n",
      "154     8467                    Normal                  50.0\n",
      "-------------------------------\n",
      "     team_id buildUpPlayDribblingClass  buildUpPlayDribbling\n",
      "155     8472                    Little                  33.0\n",
      "156     8472                    Normal                  43.0\n",
      "-------------------------------\n",
      "     team_id buildUpPlayDribblingClass  buildUpPlayDribbling\n",
      "157     8475                    Little                   NaN\n",
      "158     8475                    Normal                  45.0\n",
      "-------------------------------\n",
      "     team_id buildUpPlayDribblingClass  buildUpPlayDribbling\n",
      "159     8479                    Little                   NaN\n",
      "160     8479                    Normal                  45.5\n",
      "-------------------------------\n",
      "     team_id buildUpPlayDribblingClass  buildUpPlayDribbling\n",
      "161     8481                    Little                   NaN\n",
      "162     8481                    Normal                  48.0\n",
      "-------------------------------\n",
      "     team_id buildUpPlayDribblingClass  buildUpPlayDribbling\n",
      "163     8483                    Little                   NaN\n",
      "164     8483                    Normal                  40.0\n",
      "-------------------------------\n",
      "     team_id buildUpPlayDribblingClass  buildUpPlayDribbling\n",
      "165     8485                    Little                   NaN\n",
      "166     8485                    Normal                  64.0\n",
      "-------------------------------\n",
      "     team_id buildUpPlayDribblingClass  buildUpPlayDribbling\n",
      "167     8521                    Little                   NaN\n",
      "168     8521                    Normal                  48.0\n",
      "-------------------------------\n",
      "     team_id buildUpPlayDribblingClass  buildUpPlayDribbling\n",
      "169     8524                    Little                   NaN\n",
      "170     8524                    Normal                  45.0\n",
      "-------------------------------\n",
      "     team_id buildUpPlayDribblingClass  buildUpPlayDribbling\n",
      "171     8525                    Little                   NaN\n",
      "172     8525                    Normal                  36.0\n",
      "-------------------------------\n",
      "     team_id buildUpPlayDribblingClass  buildUpPlayDribbling\n",
      "173     8526                    Little                   NaN\n",
      "-------------------------------\n",
      "     team_id buildUpPlayDribblingClass  buildUpPlayDribbling\n",
      "174     8528                    Little                   NaN\n",
      "175     8528                    Normal                  36.5\n",
      "-------------------------------\n",
      "     team_id buildUpPlayDribblingClass  buildUpPlayDribbling\n",
      "176     8529                    Little                  32.0\n",
      "177     8529                    Normal                  51.0\n",
      "-------------------------------\n",
      "     team_id buildUpPlayDribblingClass  buildUpPlayDribbling\n",
      "178     8530                    Little                   NaN\n",
      "179     8530                    Normal                  52.0\n",
      "-------------------------------\n",
      "     team_id buildUpPlayDribblingClass  buildUpPlayDribbling\n",
      "180     8533                    Little                   NaN\n",
      "181     8533                    Normal                  54.0\n",
      "-------------------------------\n",
      "     team_id buildUpPlayDribblingClass  buildUpPlayDribbling\n",
      "182     8534                    Little                   NaN\n",
      "183     8534                    Normal                  43.0\n",
      "-------------------------------\n"
     ]
    },
    {
     "name": "stdout",
     "output_type": "stream",
     "text": [
      "     team_id buildUpPlayDribblingClass  buildUpPlayDribbling\n",
      "184     8535                    Little                   NaN\n",
      "185     8535                    Normal                  54.0\n",
      "-------------------------------\n",
      "     team_id buildUpPlayDribblingClass  buildUpPlayDribbling\n",
      "186     8537                    Little                   NaN\n",
      "187     8537                    Normal                  58.0\n",
      "-------------------------------\n",
      "     team_id buildUpPlayDribblingClass  buildUpPlayDribbling\n",
      "188     8540                    Little                   NaN\n",
      "189     8540                    Normal                  60.5\n",
      "-------------------------------\n",
      "     team_id buildUpPlayDribblingClass  buildUpPlayDribbling\n",
      "190     8543                    Little                   NaN\n",
      "191     8543                      Lots                  69.0\n",
      "192     8543                    Normal                  65.0\n",
      "-------------------------------\n",
      "     team_id buildUpPlayDribblingClass  buildUpPlayDribbling\n",
      "193     8548                    Little                   NaN\n",
      "194     8548                    Normal                  51.0\n",
      "-------------------------------\n",
      "     team_id buildUpPlayDribblingClass  buildUpPlayDribbling\n",
      "195     8549                    Little                  30.0\n",
      "-------------------------------\n",
      "     team_id buildUpPlayDribblingClass  buildUpPlayDribbling\n",
      "196     8550                    Little                   NaN\n",
      "197     8550                    Normal                  45.0\n",
      "-------------------------------\n",
      "     team_id buildUpPlayDribblingClass  buildUpPlayDribbling\n",
      "198     8551                    Little                   NaN\n",
      "199     8551                    Normal                  49.0\n",
      "-------------------------------\n",
      "     team_id buildUpPlayDribblingClass  buildUpPlayDribbling\n",
      "200     8558                    Little                   NaN\n",
      "201     8558                    Normal                  52.0\n",
      "-------------------------------\n",
      "     team_id buildUpPlayDribblingClass  buildUpPlayDribbling\n",
      "202     8559                    Little                   NaN\n",
      "203     8559                    Normal                  35.5\n",
      "-------------------------------\n",
      "     team_id buildUpPlayDribblingClass  buildUpPlayDribbling\n",
      "204     8560                    Little                   NaN\n",
      "205     8560                    Normal                  52.0\n",
      "-------------------------------\n",
      "     team_id buildUpPlayDribblingClass  buildUpPlayDribbling\n",
      "206     8564                    Little                   NaN\n",
      "207     8564                      Lots                  70.0\n",
      "-------------------------------\n",
      "     team_id buildUpPlayDribblingClass  buildUpPlayDribbling\n",
      "208     8569                    Little                   NaN\n",
      "209     8569                    Normal                  48.0\n",
      "-------------------------------\n",
      "     team_id buildUpPlayDribblingClass  buildUpPlayDribbling\n",
      "210     8571                    Little                   NaN\n",
      "211     8571                    Normal                  40.0\n",
      "-------------------------------\n",
      "     team_id buildUpPlayDribblingClass  buildUpPlayDribbling\n",
      "212     8573                    Normal                  49.0\n",
      "-------------------------------\n",
      "     team_id buildUpPlayDribblingClass  buildUpPlayDribbling\n",
      "213     8576                    Little                   NaN\n",
      "214     8576                    Normal                  57.0\n",
      "-------------------------------\n",
      "     team_id buildUpPlayDribblingClass  buildUpPlayDribbling\n",
      "215     8581                    Little                   NaN\n",
      "216     8581                    Normal                  43.5\n",
      "-------------------------------\n",
      "     team_id buildUpPlayDribblingClass  buildUpPlayDribbling\n",
      "217     8583                    Little                   NaN\n",
      "218     8583                    Normal                  55.0\n",
      "-------------------------------\n",
      "     team_id buildUpPlayDribblingClass  buildUpPlayDribbling\n",
      "219     8586                    Little                   NaN\n",
      "220     8586                    Normal                  40.5\n",
      "-------------------------------\n",
      "     team_id buildUpPlayDribblingClass  buildUpPlayDribbling\n",
      "221     8588                    Little                   NaN\n",
      "222     8588                    Normal                  48.0\n",
      "-------------------------------\n",
      "     team_id buildUpPlayDribblingClass  buildUpPlayDribbling\n",
      "223     8592                    Little                   NaN\n",
      "224     8592                      Lots                  77.0\n",
      "225     8592                    Normal                  62.0\n",
      "-------------------------------\n",
      "     team_id buildUpPlayDribblingClass  buildUpPlayDribbling\n",
      "226     8593                    Little                   NaN\n",
      "227     8593                    Normal                  41.5\n",
      "-------------------------------\n",
      "     team_id buildUpPlayDribblingClass  buildUpPlayDribbling\n",
      "228     8596                    Little                   NaN\n",
      "-------------------------------\n",
      "     team_id buildUpPlayDribblingClass  buildUpPlayDribbling\n",
      "229     8597                    Little                   NaN\n",
      "230     8597                    Normal                  49.0\n",
      "-------------------------------\n",
      "     team_id buildUpPlayDribblingClass  buildUpPlayDribbling\n",
      "231     8600                    Little                   NaN\n",
      "232     8600                      Lots                  71.0\n",
      "233     8600                    Normal                  54.0\n",
      "-------------------------------\n",
      "     team_id buildUpPlayDribblingClass  buildUpPlayDribbling\n",
      "234     8602                    Little                  28.0\n",
      "235     8602                    Normal                  36.0\n",
      "-------------------------------\n",
      "     team_id buildUpPlayDribblingClass  buildUpPlayDribbling\n",
      "236     8603                    Little                   NaN\n",
      "237     8603                    Normal                  49.0\n",
      "-------------------------------\n",
      "     team_id buildUpPlayDribblingClass  buildUpPlayDribbling\n",
      "238     8611                    Little                   NaN\n",
      "239     8611                    Normal                  39.5\n",
      "-------------------------------\n",
      "     team_id buildUpPlayDribblingClass  buildUpPlayDribbling\n",
      "240     8613                    Normal                  56.0\n",
      "-------------------------------\n",
      "     team_id buildUpPlayDribblingClass  buildUpPlayDribbling\n",
      "241     8614                    Little                   NaN\n",
      "-------------------------------\n",
      "     team_id buildUpPlayDribblingClass  buildUpPlayDribbling\n",
      "242     8633                    Little                   NaN\n",
      "243     8633                    Normal                  55.5\n",
      "-------------------------------\n",
      "     team_id buildUpPlayDribblingClass  buildUpPlayDribbling\n",
      "244     8634                    Little                   NaN\n",
      "245     8634                    Normal                  35.0\n",
      "-------------------------------\n",
      "     team_id buildUpPlayDribblingClass  buildUpPlayDribbling\n",
      "246     8635                    Little                   NaN\n",
      "247     8635                    Normal                  46.0\n",
      "-------------------------------\n",
      "     team_id buildUpPlayDribblingClass  buildUpPlayDribbling\n",
      "248     8636                    Little                   NaN\n",
      "249     8636                      Lots                  69.0\n",
      "250     8636                    Normal                  48.0\n",
      "-------------------------------\n",
      "     team_id buildUpPlayDribblingClass  buildUpPlayDribbling\n",
      "251     8639                    Little                   NaN\n",
      "252     8639                    Normal                  50.5\n",
      "-------------------------------\n",
      "     team_id buildUpPlayDribblingClass  buildUpPlayDribbling\n",
      "253     8640                    Little                   NaN\n",
      "254     8640                    Normal                  39.0\n",
      "-------------------------------\n",
      "     team_id buildUpPlayDribblingClass  buildUpPlayDribbling\n",
      "255     8649                    Little                   NaN\n",
      "256     8649                    Normal                  49.0\n",
      "-------------------------------\n",
      "     team_id buildUpPlayDribblingClass  buildUpPlayDribbling\n",
      "257     8650                    Little                   NaN\n",
      "258     8650                    Normal                  54.0\n",
      "-------------------------------\n",
      "     team_id buildUpPlayDribblingClass  buildUpPlayDribbling\n",
      "259     8654                    Little                   NaN\n",
      "260     8654                    Normal                  38.0\n",
      "-------------------------------\n",
      "     team_id buildUpPlayDribblingClass  buildUpPlayDribbling\n",
      "261     8655                    Little                  31.0\n",
      "262     8655                    Normal                  60.0\n",
      "-------------------------------\n",
      "     team_id buildUpPlayDribblingClass  buildUpPlayDribbling\n",
      "263     8658                    Little                  32.0\n",
      "264     8658                    Normal                  39.0\n",
      "-------------------------------\n",
      "     team_id buildUpPlayDribblingClass  buildUpPlayDribbling\n",
      "265     8659                    Little                  32.0\n",
      "266     8659                    Normal                  34.0\n",
      "-------------------------------\n",
      "     team_id buildUpPlayDribblingClass  buildUpPlayDribbling\n",
      "267     8661                    Little                   NaN\n",
      "268     8661                    Normal                  53.0\n",
      "-------------------------------\n",
      "     team_id buildUpPlayDribblingClass  buildUpPlayDribbling\n",
      "269     8667                    Little                   NaN\n",
      "270     8667                    Normal                  37.5\n",
      "-------------------------------\n",
      "     team_id buildUpPlayDribblingClass  buildUpPlayDribbling\n",
      "271     8668                    Little                   NaN\n",
      "272     8668                    Normal                  39.5\n",
      "-------------------------------\n",
      "     team_id buildUpPlayDribblingClass  buildUpPlayDribbling\n",
      "273     8673                    Little                   NaN\n",
      "274     8673                    Normal                  49.0\n",
      "-------------------------------\n",
      "     team_id buildUpPlayDribblingClass  buildUpPlayDribbling\n",
      "275     8674                    Little                  32.0\n",
      "276     8674                    Normal                  42.0\n",
      "-------------------------------\n",
      "     team_id buildUpPlayDribblingClass  buildUpPlayDribbling\n",
      "277     8678                    Little                   NaN\n",
      "278     8678                    Normal                  40.0\n",
      "-------------------------------\n",
      "     team_id buildUpPlayDribblingClass  buildUpPlayDribbling\n",
      "279     8682                    Little                   NaN\n",
      "-------------------------------\n",
      "     team_id buildUpPlayDribblingClass  buildUpPlayDribbling\n",
      "280     8686                    Little                  27.0\n",
      "281     8686                    Normal                  48.0\n",
      "-------------------------------\n",
      "     team_id buildUpPlayDribblingClass  buildUpPlayDribbling\n",
      "282     8689                    Little                   NaN\n",
      "283     8689                    Normal                  49.0\n",
      "-------------------------------\n",
      "     team_id buildUpPlayDribblingClass  buildUpPlayDribbling\n",
      "284     8690                    Little                   NaN\n",
      "285     8690                    Normal                  55.0\n",
      "-------------------------------\n",
      "     team_id buildUpPlayDribblingClass  buildUpPlayDribbling\n",
      "286     8696                    Little                   NaN\n",
      "287     8696                    Normal                  52.0\n",
      "-------------------------------\n",
      "     team_id buildUpPlayDribblingClass  buildUpPlayDribbling\n",
      "288     8697                    Little                   NaN\n",
      "289     8697                    Normal                  55.0\n",
      "-------------------------------\n",
      "     team_id buildUpPlayDribblingClass  buildUpPlayDribbling\n",
      "290     8721                    Little                   NaN\n",
      "291     8721                      Lots                  67.0\n",
      "292     8721                    Normal                  45.0\n",
      "-------------------------------\n",
      "     team_id buildUpPlayDribblingClass  buildUpPlayDribbling\n",
      "293     8722                    Little                   NaN\n",
      "294     8722                    Normal                  50.0\n",
      "-------------------------------\n",
      "     team_id buildUpPlayDribblingClass  buildUpPlayDribbling\n",
      "295     9746                    Little                   NaN\n",
      "296     9746                    Normal                  56.0\n",
      "-------------------------------\n",
      "     team_id buildUpPlayDribblingClass  buildUpPlayDribbling\n",
      "297     9747                    Little                   NaN\n",
      "298     9747                    Normal                  47.5\n",
      "-------------------------------\n",
      "     team_id buildUpPlayDribblingClass  buildUpPlayDribbling\n",
      "299     9748                    Little                   NaN\n",
      "300     9748                    Normal                  60.0\n",
      "-------------------------------\n",
      "     team_id buildUpPlayDribblingClass  buildUpPlayDribbling\n",
      "301     9761                    Little                   NaN\n",
      "302     9761                    Normal                  46.5\n",
      "-------------------------------\n",
      "     team_id buildUpPlayDribblingClass  buildUpPlayDribbling\n",
      "303     9764                    Little                   NaN\n",
      "304     9764                      Lots                  67.0\n",
      "-------------------------------\n",
      "     team_id buildUpPlayDribblingClass  buildUpPlayDribbling\n",
      "305     9768                    Little                   NaN\n",
      "306     9768                    Normal                  65.0\n",
      "-------------------------------\n",
      "     team_id buildUpPlayDribblingClass  buildUpPlayDribbling\n",
      "307     9771                    Little                   NaN\n",
      "-------------------------------\n",
      "     team_id buildUpPlayDribblingClass  buildUpPlayDribbling\n",
      "308     9772                    Little                   NaN\n",
      "309     9772                    Normal                  55.0\n",
      "-------------------------------\n",
      "     team_id buildUpPlayDribblingClass  buildUpPlayDribbling\n",
      "310     9773                    Little                   NaN\n",
      "311     9773                    Normal                  50.0\n",
      "-------------------------------\n",
      "     team_id buildUpPlayDribblingClass  buildUpPlayDribbling\n",
      "312     9776                    Little                   NaN\n",
      "313     9776                    Normal                  52.0\n",
      "-------------------------------\n",
      "     team_id buildUpPlayDribblingClass  buildUpPlayDribbling\n",
      "314     9777                    Little                   NaN\n",
      "-------------------------------\n",
      "     team_id buildUpPlayDribblingClass  buildUpPlayDribbling\n",
      "315     9783                    Little                   NaN\n",
      "316     9783                    Normal                  55.0\n",
      "-------------------------------\n",
      "     team_id buildUpPlayDribblingClass  buildUpPlayDribbling\n",
      "317     9788                    Little                   NaN\n",
      "318     9788                    Normal                  53.0\n",
      "-------------------------------\n",
      "     team_id buildUpPlayDribblingClass  buildUpPlayDribbling\n",
      "319     9789                    Little                  33.0\n",
      "320     9789                    Normal                  37.0\n",
      "-------------------------------\n",
      "     team_id buildUpPlayDribblingClass  buildUpPlayDribbling\n",
      "321     9790                    Little                   NaN\n",
      "322     9790                    Normal                  58.5\n",
      "-------------------------------\n",
      "     team_id buildUpPlayDribblingClass  buildUpPlayDribbling\n",
      "323     9791                    Little                   NaN\n",
      "324     9791                    Normal                  45.5\n",
      "-------------------------------\n",
      "     team_id buildUpPlayDribblingClass  buildUpPlayDribbling\n",
      "325     9798                    Little                  26.0\n",
      "326     9798                    Normal                  36.0\n",
      "-------------------------------\n",
      "     team_id buildUpPlayDribblingClass  buildUpPlayDribbling\n",
      "327     9800                    Little                   NaN\n",
      "328     9800                    Normal                  51.5\n",
      "-------------------------------\n",
      "     team_id buildUpPlayDribblingClass  buildUpPlayDribbling\n",
      "329     9803                    Little                   NaN\n",
      "330     9803                    Normal                  46.0\n",
      "-------------------------------\n",
      "     team_id buildUpPlayDribblingClass  buildUpPlayDribbling\n",
      "331     9804                    Little                   NaN\n",
      "332     9804                      Lots                  69.0\n",
      "-------------------------------\n",
      "     team_id buildUpPlayDribblingClass  buildUpPlayDribbling\n",
      "333     9807                    Little                   NaN\n",
      "334     9807                    Normal                  53.0\n",
      "-------------------------------\n",
      "     team_id buildUpPlayDribblingClass  buildUpPlayDribbling\n",
      "335     9809                    Little                   NaN\n",
      "-------------------------------\n",
      "     team_id buildUpPlayDribblingClass  buildUpPlayDribbling\n",
      "336     9810                    Little                   NaN\n",
      "337     9810                    Normal                  44.5\n",
      "-------------------------------\n",
      "     team_id buildUpPlayDribblingClass  buildUpPlayDribbling\n",
      "338     9817                    Little                  32.0\n",
      "339     9817                    Normal                  43.0\n",
      "-------------------------------\n",
      "     team_id buildUpPlayDribblingClass  buildUpPlayDribbling\n",
      "340     9823                    Little                  24.0\n",
      "341     9823                    Normal                  34.0\n",
      "-------------------------------\n",
      "     team_id buildUpPlayDribblingClass  buildUpPlayDribbling\n",
      "342     9824                    Little                  32.0\n",
      "-------------------------------\n",
      "     team_id buildUpPlayDribblingClass  buildUpPlayDribbling\n",
      "343     9825                    Little                   NaN\n",
      "344     9825                    Normal                  51.0\n",
      "-------------------------------\n",
      "     team_id buildUpPlayDribblingClass  buildUpPlayDribbling\n",
      "345     9826                    Little                   NaN\n",
      "346     9826                    Normal                  40.5\n",
      "-------------------------------\n",
      "     team_id buildUpPlayDribblingClass  buildUpPlayDribbling\n",
      "347     9827                    Little                   NaN\n",
      "348     9827                    Normal                  44.5\n",
      "-------------------------------\n",
      "     team_id buildUpPlayDribblingClass  buildUpPlayDribbling\n",
      "349     9829                    Little                   NaN\n",
      "350     9829                      Lots                  68.0\n",
      "351     9829                    Normal                  42.0\n",
      "-------------------------------\n",
      "     team_id buildUpPlayDribblingClass  buildUpPlayDribbling\n",
      "352     9830                    Little                   NaN\n",
      "353     9830                      Lots                  70.0\n",
      "354     9830                    Normal                  53.0\n",
      "-------------------------------\n",
      "     team_id buildUpPlayDribblingClass  buildUpPlayDribbling\n",
      "355     9831                    Little                   NaN\n",
      "356     9831                    Normal                  58.0\n",
      "-------------------------------\n",
      "     team_id buildUpPlayDribblingClass  buildUpPlayDribbling\n",
      "357     9836                    Little                   NaN\n",
      "358     9836                    Normal                  54.0\n",
      "-------------------------------\n",
      "     team_id buildUpPlayDribblingClass  buildUpPlayDribbling\n",
      "359     9837                    Little                   NaN\n",
      "360     9837                    Normal                  47.5\n",
      "-------------------------------\n",
      "     team_id buildUpPlayDribblingClass  buildUpPlayDribbling\n",
      "361     9839                    Little                   NaN\n",
      "-------------------------------\n",
      "     team_id buildUpPlayDribblingClass  buildUpPlayDribbling\n",
      "362     9847                    Little                   NaN\n",
      "363     9847                      Lots                  70.0\n",
      "364     9847                    Normal                  47.0\n",
      "-------------------------------\n",
      "     team_id buildUpPlayDribblingClass  buildUpPlayDribbling\n",
      "365     9850                    Little                  28.0\n",
      "366     9850                    Normal                  38.0\n",
      "-------------------------------\n",
      "     team_id buildUpPlayDribblingClass  buildUpPlayDribbling\n",
      "367     9851                    Little                   NaN\n",
      "368     9851                    Normal                  62.0\n",
      "-------------------------------\n",
      "     team_id buildUpPlayDribblingClass  buildUpPlayDribbling\n",
      "369     9853                    Little                   NaN\n",
      "370     9853                    Normal                  55.0\n",
      "-------------------------------\n",
      "     team_id buildUpPlayDribblingClass  buildUpPlayDribbling\n",
      "371     9855                    Little                   NaN\n",
      "-------------------------------\n",
      "     team_id buildUpPlayDribblingClass  buildUpPlayDribbling\n",
      "372     9857                    Little                   NaN\n",
      "373     9857                    Normal                  53.0\n",
      "-------------------------------\n",
      "     team_id buildUpPlayDribblingClass  buildUpPlayDribbling\n",
      "374     9858                    Little                   NaN\n",
      "375     9858                    Normal                  56.0\n",
      "-------------------------------\n",
      "     team_id buildUpPlayDribblingClass  buildUpPlayDribbling\n",
      "376     9860                    Little                   NaN\n",
      "377     9860                    Normal                  51.0\n",
      "-------------------------------\n",
      "     team_id buildUpPlayDribblingClass  buildUpPlayDribbling\n",
      "378     9864                    Little                   NaN\n",
      "379     9864                    Normal                  46.5\n",
      "-------------------------------\n",
      "     team_id buildUpPlayDribblingClass  buildUpPlayDribbling\n",
      "380     9865                    Little                   NaN\n",
      "381     9865                    Normal                  41.0\n",
      "-------------------------------\n",
      "     team_id buildUpPlayDribblingClass  buildUpPlayDribbling\n",
      "382     9867                    Little                   NaN\n",
      "383     9867                    Normal                  50.0\n",
      "-------------------------------\n",
      "     team_id buildUpPlayDribblingClass  buildUpPlayDribbling\n",
      "384     9868                    Little                   NaN\n",
      "-------------------------------\n",
      "     team_id buildUpPlayDribblingClass  buildUpPlayDribbling\n",
      "385     9869                    Little                   NaN\n"
     ]
    },
    {
     "name": "stdout",
     "output_type": "stream",
     "text": [
      "386     9869                    Normal                  48.0\n",
      "-------------------------------\n",
      "     team_id buildUpPlayDribblingClass  buildUpPlayDribbling\n",
      "387     9873                    Little                   NaN\n",
      "388     9873                    Normal                  59.0\n",
      "-------------------------------\n",
      "     team_id buildUpPlayDribblingClass  buildUpPlayDribbling\n",
      "389     9874                    Little                   NaN\n",
      "390     9874                    Normal                  62.0\n",
      "-------------------------------\n",
      "     team_id buildUpPlayDribblingClass  buildUpPlayDribbling\n",
      "391     9875                    Little                   NaN\n",
      "392     9875                      Lots                  72.0\n",
      "-------------------------------\n",
      "     team_id buildUpPlayDribblingClass  buildUpPlayDribbling\n",
      "393     9876                    Little                  29.0\n",
      "394     9876                    Normal                  46.0\n",
      "-------------------------------\n",
      "     team_id buildUpPlayDribblingClass  buildUpPlayDribbling\n",
      "395     9878                    Little                  31.0\n",
      "396     9878                    Normal                  52.0\n",
      "-------------------------------\n",
      "     team_id buildUpPlayDribblingClass  buildUpPlayDribbling\n",
      "397     9879                    Little                   NaN\n",
      "398     9879                    Normal                  34.0\n",
      "-------------------------------\n",
      "     team_id buildUpPlayDribblingClass  buildUpPlayDribbling\n",
      "399     9880                    Little                  30.0\n",
      "-------------------------------\n",
      "     team_id buildUpPlayDribblingClass  buildUpPlayDribbling\n",
      "400     9882                    Little                   NaN\n",
      "401     9882                    Normal                  56.0\n",
      "-------------------------------\n",
      "     team_id buildUpPlayDribblingClass  buildUpPlayDribbling\n",
      "402     9885                    Little                   NaN\n",
      "403     9885                    Normal                  41.0\n",
      "-------------------------------\n",
      "     team_id buildUpPlayDribblingClass  buildUpPlayDribbling\n",
      "404     9888                    Little                   NaN\n",
      "-------------------------------\n",
      "     team_id buildUpPlayDribblingClass  buildUpPlayDribbling\n",
      "405     9891                    Little                   NaN\n",
      "406     9891                    Normal                  48.0\n",
      "-------------------------------\n",
      "     team_id buildUpPlayDribblingClass  buildUpPlayDribbling\n",
      "407     9904                    Little                   NaN\n",
      "408     9904                    Normal                  55.0\n",
      "-------------------------------\n",
      "     team_id buildUpPlayDribblingClass  buildUpPlayDribbling\n",
      "409     9905                    Little                   NaN\n",
      "410     9905                    Normal                  48.5\n",
      "-------------------------------\n",
      "     team_id buildUpPlayDribblingClass  buildUpPlayDribbling\n",
      "411     9906                    Little                   NaN\n",
      "412     9906                    Normal                  51.0\n",
      "-------------------------------\n",
      "     team_id buildUpPlayDribblingClass  buildUpPlayDribbling\n",
      "413     9908                    Little                   NaN\n",
      "414     9908                    Normal                  44.5\n",
      "-------------------------------\n",
      "     team_id buildUpPlayDribblingClass  buildUpPlayDribbling\n",
      "415     9910                    Little                   NaN\n",
      "416     9910                    Normal                  56.5\n",
      "-------------------------------\n",
      "     team_id buildUpPlayDribblingClass  buildUpPlayDribbling\n",
      "417     9911                    Little                   NaN\n",
      "418     9911                    Normal                  46.0\n",
      "-------------------------------\n",
      "     team_id buildUpPlayDribblingClass  buildUpPlayDribbling\n",
      "419     9912                    Little                   NaN\n",
      "420     9912                    Normal                  49.0\n",
      "-------------------------------\n",
      "     team_id buildUpPlayDribblingClass  buildUpPlayDribbling\n",
      "421     9925                    Little                   NaN\n",
      "422     9925                    Normal                  50.5\n",
      "-------------------------------\n",
      "     team_id buildUpPlayDribblingClass  buildUpPlayDribbling\n",
      "423     9927                    Little                   NaN\n",
      "424     9927                    Normal                  46.5\n",
      "-------------------------------\n",
      "     team_id buildUpPlayDribblingClass  buildUpPlayDribbling\n",
      "425     9930                    Little                   NaN\n",
      "426     9930                    Normal                  44.5\n",
      "-------------------------------\n",
      "     team_id buildUpPlayDribblingClass  buildUpPlayDribbling\n",
      "427     9931                    Little                   NaN\n",
      "428     9931                    Normal                  63.0\n",
      "-------------------------------\n",
      "     team_id buildUpPlayDribblingClass  buildUpPlayDribbling\n",
      "429     9938                    Little                   NaN\n",
      "430     9938                    Normal                  54.5\n",
      "-------------------------------\n",
      "     team_id buildUpPlayDribblingClass  buildUpPlayDribbling\n",
      "431     9941                    Little                   NaN\n",
      "432     9941                    Normal                  56.0\n",
      "-------------------------------\n",
      "     team_id buildUpPlayDribblingClass  buildUpPlayDribbling\n",
      "433     9956                    Little                   NaN\n",
      "434     9956                    Normal                  60.0\n",
      "-------------------------------\n",
      "     team_id buildUpPlayDribblingClass  buildUpPlayDribbling\n",
      "435     9976                    Little                   NaN\n",
      "436     9976                    Normal                  40.0\n",
      "-------------------------------\n",
      "     team_id buildUpPlayDribblingClass  buildUpPlayDribbling\n",
      "437     9984                    Little                   NaN\n",
      "438     9984                    Normal                  49.0\n",
      "-------------------------------\n",
      "     team_id buildUpPlayDribblingClass  buildUpPlayDribbling\n",
      "439     9985                    Little                   NaN\n",
      "440     9985                    Normal                  45.0\n",
      "-------------------------------\n",
      "     team_id buildUpPlayDribblingClass  buildUpPlayDribbling\n",
      "441     9986                    Little                   NaN\n",
      "442     9986                    Normal                  47.0\n",
      "-------------------------------\n",
      "     team_id buildUpPlayDribblingClass  buildUpPlayDribbling\n",
      "443     9987                    Little                   NaN\n",
      "444     9987                    Normal                  52.0\n",
      "-------------------------------\n",
      "     team_id buildUpPlayDribblingClass  buildUpPlayDribbling\n",
      "445     9989                    Little                   NaN\n",
      "446     9989                    Normal                  44.0\n",
      "-------------------------------\n",
      "     team_id buildUpPlayDribblingClass  buildUpPlayDribbling\n",
      "447     9991                    Little                   NaN\n",
      "448     9991                    Normal                  55.0\n",
      "-------------------------------\n",
      "     team_id buildUpPlayDribblingClass  buildUpPlayDribbling\n",
      "449     9993                    Little                   NaN\n",
      "-------------------------------\n",
      "     team_id buildUpPlayDribblingClass  buildUpPlayDribbling\n",
      "450     9994                    Little                   NaN\n",
      "451     9994                    Normal                  45.0\n",
      "-------------------------------\n",
      "     team_id buildUpPlayDribblingClass  buildUpPlayDribbling\n",
      "452     9996                    Normal                  50.0\n",
      "-------------------------------\n",
      "     team_id buildUpPlayDribblingClass  buildUpPlayDribbling\n",
      "453     9997                    Little                   NaN\n",
      "-------------------------------\n",
      "     team_id buildUpPlayDribblingClass  buildUpPlayDribbling\n",
      "454     9998                    Little                   NaN\n",
      "455     9998                    Normal                  50.0\n",
      "-------------------------------\n",
      "     team_id buildUpPlayDribblingClass  buildUpPlayDribbling\n",
      "456     9999                    Little                   NaN\n",
      "-------------------------------\n",
      "     team_id buildUpPlayDribblingClass  buildUpPlayDribbling\n",
      "457    10000                    Little                   NaN\n",
      "458    10000                    Normal                  42.0\n",
      "-------------------------------\n",
      "     team_id buildUpPlayDribblingClass  buildUpPlayDribbling\n",
      "459    10001                    Little                   NaN\n",
      "460    10001                    Normal                  46.0\n",
      "-------------------------------\n",
      "     team_id buildUpPlayDribblingClass  buildUpPlayDribbling\n",
      "461    10003                    Little                   NaN\n",
      "462    10003                    Normal                  39.0\n",
      "-------------------------------\n",
      "     team_id buildUpPlayDribblingClass  buildUpPlayDribbling\n",
      "463    10167                    Little                   NaN\n",
      "464    10167                      Lots                  71.0\n",
      "465    10167                    Normal                  66.0\n",
      "-------------------------------\n",
      "     team_id buildUpPlayDribblingClass  buildUpPlayDribbling\n",
      "466    10172                    Little                   NaN\n",
      "467    10172                    Normal                  37.5\n",
      "-------------------------------\n",
      "     team_id buildUpPlayDribblingClass  buildUpPlayDribbling\n",
      "468    10179                    Little                   NaN\n",
      "469    10179                    Normal                  57.0\n",
      "-------------------------------\n",
      "     team_id buildUpPlayDribblingClass  buildUpPlayDribbling\n",
      "470    10189                    Little                   NaN\n",
      "471    10189                    Normal                  48.5\n",
      "-------------------------------\n",
      "     team_id buildUpPlayDribblingClass  buildUpPlayDribbling\n",
      "472    10190                    Little                   NaN\n",
      "473    10190                    Normal                  46.0\n",
      "-------------------------------\n",
      "     team_id buildUpPlayDribblingClass  buildUpPlayDribbling\n",
      "474    10191                    Little                   NaN\n",
      "475    10191                    Normal                  59.0\n",
      "-------------------------------\n",
      "     team_id buildUpPlayDribblingClass  buildUpPlayDribbling\n",
      "476    10192                    Little                   NaN\n",
      "477    10192                    Normal                  56.0\n",
      "-------------------------------\n",
      "     team_id buildUpPlayDribblingClass  buildUpPlayDribbling\n",
      "478    10194                    Little                  24.0\n",
      "479    10194                    Normal                  41.0\n",
      "-------------------------------\n",
      "     team_id buildUpPlayDribblingClass  buildUpPlayDribbling\n",
      "480    10199                    Little                   NaN\n",
      "481    10199                    Normal                  51.0\n",
      "-------------------------------\n",
      "     team_id buildUpPlayDribblingClass  buildUpPlayDribbling\n",
      "482    10205                    Little                   NaN\n",
      "483    10205                    Normal                  42.0\n",
      "-------------------------------\n",
      "     team_id buildUpPlayDribblingClass  buildUpPlayDribbling\n",
      "484    10211                    Little                   NaN\n",
      "-------------------------------\n",
      "     team_id buildUpPlayDribblingClass  buildUpPlayDribbling\n",
      "485    10212                    Little                   NaN\n",
      "486    10212                    Normal                  49.0\n",
      "-------------------------------\n",
      "     team_id buildUpPlayDribblingClass  buildUpPlayDribbling\n",
      "487    10214                    Little                   NaN\n",
      "488    10214                    Normal                  59.0\n",
      "-------------------------------\n",
      "     team_id buildUpPlayDribblingClass  buildUpPlayDribbling\n",
      "489    10215                    Little                   NaN\n",
      "490    10215                    Normal                  53.0\n",
      "-------------------------------\n",
      "     team_id buildUpPlayDribblingClass  buildUpPlayDribbling\n",
      "491    10217                    Little                   NaN\n",
      "492    10217                    Normal                  43.5\n",
      "-------------------------------\n",
      "     team_id buildUpPlayDribblingClass  buildUpPlayDribbling\n",
      "493    10218                    Little                   NaN\n",
      "494    10218                    Normal                  41.0\n",
      "-------------------------------\n",
      "     team_id buildUpPlayDribblingClass  buildUpPlayDribbling\n",
      "495    10219                    Little                  30.0\n",
      "-------------------------------\n",
      "     team_id buildUpPlayDribblingClass  buildUpPlayDribbling\n",
      "496    10228                    Little                   NaN\n",
      "497    10228                    Normal                  44.0\n",
      "-------------------------------\n",
      "     team_id buildUpPlayDribblingClass  buildUpPlayDribbling\n",
      "498    10229                    Little                   NaN\n",
      "499    10229                    Normal                  42.0\n",
      "-------------------------------\n",
      "     team_id buildUpPlayDribblingClass  buildUpPlayDribbling\n",
      "500    10233                    Little                   NaN\n",
      "501    10233                    Normal                  52.0\n",
      "-------------------------------\n",
      "     team_id buildUpPlayDribblingClass  buildUpPlayDribbling\n",
      "502    10235                    Little                  33.0\n",
      "503    10235                    Normal                  40.0\n",
      "-------------------------------\n",
      "     team_id buildUpPlayDribblingClass  buildUpPlayDribbling\n",
      "504    10238                    Little                   NaN\n",
      "505    10238                    Normal                  49.0\n",
      "-------------------------------\n",
      "     team_id buildUpPlayDribblingClass  buildUpPlayDribbling\n",
      "506    10242                    Little                   NaN\n",
      "507    10242                    Normal                  48.0\n",
      "-------------------------------\n",
      "     team_id buildUpPlayDribblingClass  buildUpPlayDribbling\n",
      "508    10243                    Little                   NaN\n",
      "509    10243                    Normal                  49.0\n",
      "-------------------------------\n",
      "     team_id buildUpPlayDribblingClass  buildUpPlayDribbling\n",
      "510    10249                    Little                   NaN\n",
      "511    10249                    Normal                  50.5\n",
      "-------------------------------\n",
      "     team_id buildUpPlayDribblingClass  buildUpPlayDribbling\n",
      "512    10251                    Little                   NaN\n",
      "513    10251                    Normal                  49.0\n",
      "-------------------------------\n",
      "     team_id buildUpPlayDribblingClass  buildUpPlayDribbling\n",
      "514    10252                    Little                  32.0\n",
      "515    10252                    Normal                  37.0\n",
      "-------------------------------\n",
      "     team_id buildUpPlayDribblingClass  buildUpPlayDribbling\n",
      "516    10260                    Little                   NaN\n",
      "517    10260                    Normal                  38.0\n",
      "-------------------------------\n",
      "     team_id buildUpPlayDribblingClass  buildUpPlayDribbling\n",
      "518    10261                    Little                  33.0\n",
      "519    10261                    Normal                  45.0\n",
      "-------------------------------\n",
      "     team_id buildUpPlayDribblingClass  buildUpPlayDribbling\n",
      "520    10264                    Little                   NaN\n",
      "521    10264                    Normal                  35.0\n",
      "-------------------------------\n",
      "     team_id buildUpPlayDribblingClass  buildUpPlayDribbling\n",
      "522    10265                    Little                   NaN\n",
      "523    10265                    Normal                  50.5\n",
      "-------------------------------\n",
      "     team_id buildUpPlayDribblingClass  buildUpPlayDribbling\n",
      "524    10267                    Little                   NaN\n",
      "525    10267                    Normal                  45.5\n",
      "-------------------------------\n",
      "     team_id buildUpPlayDribblingClass  buildUpPlayDribbling\n",
      "526    10268                    Little                   NaN\n",
      "527    10268                    Normal                  49.5\n",
      "-------------------------------\n",
      "     team_id buildUpPlayDribblingClass  buildUpPlayDribbling\n",
      "528    10269                    Little                   NaN\n",
      "529    10269                    Normal                  58.0\n",
      "-------------------------------\n",
      "     team_id buildUpPlayDribblingClass  buildUpPlayDribbling\n",
      "530    10278                    Little                   NaN\n",
      "531    10278                    Normal                  47.0\n",
      "-------------------------------\n",
      "     team_id buildUpPlayDribblingClass  buildUpPlayDribbling\n",
      "532    10281                    Little                   NaN\n",
      "533    10281                    Normal                  42.0\n",
      "-------------------------------\n",
      "     team_id buildUpPlayDribblingClass  buildUpPlayDribbling\n",
      "534   108893                    Little                   NaN\n",
      "535   108893                    Normal                  47.0\n",
      "-------------------------------\n",
      "     team_id buildUpPlayDribblingClass  buildUpPlayDribbling\n",
      "536   158085                    Normal                  66.0\n",
      "-------------------------------\n",
      "     team_id buildUpPlayDribblingClass  buildUpPlayDribbling\n",
      "537   208931                    Normal                  45.5\n",
      "-------------------------------\n",
      "     team_id buildUpPlayDribblingClass  buildUpPlayDribbling\n",
      "538   274581                    Normal                  50.0\n",
      "-------------------------------\n"
     ]
    }
   ],
   "source": [
    "temp = team_att_df.groupby([\"team_id\", \"buildUpPlayDribblingClass\"])[\"buildUpPlayDribbling\"].mean().reset_index()\n",
    "for t in temp[\"team_id\"].unique():\n",
    "    print(temp.loc[temp[\"team_id\"]==t])\n",
    "    print(\"-------------------------------\")"
   ]
  },
  {
   "cell_type": "code",
   "execution_count": 126,
   "metadata": {},
   "outputs": [
    {
     "data": {
      "text/html": [
       "<div>\n",
       "<style scoped>\n",
       "    .dataframe tbody tr th:only-of-type {\n",
       "        vertical-align: middle;\n",
       "    }\n",
       "\n",
       "    .dataframe tbody tr th {\n",
       "        vertical-align: top;\n",
       "    }\n",
       "\n",
       "    .dataframe thead tr th {\n",
       "        text-align: left;\n",
       "    }\n",
       "\n",
       "    .dataframe thead tr:last-of-type th {\n",
       "        text-align: right;\n",
       "    }\n",
       "</style>\n",
       "<table border=\"1\" class=\"dataframe\">\n",
       "  <thead>\n",
       "    <tr>\n",
       "      <th></th>\n",
       "      <th colspan=\"2\" halign=\"left\">buildUpPlayDribbling</th>\n",
       "    </tr>\n",
       "    <tr>\n",
       "      <th></th>\n",
       "      <th>std</th>\n",
       "      <th>mean</th>\n",
       "    </tr>\n",
       "    <tr>\n",
       "      <th>buildUpPlayDribblingClass</th>\n",
       "      <th></th>\n",
       "      <th></th>\n",
       "    </tr>\n",
       "  </thead>\n",
       "  <tbody>\n",
       "    <tr>\n",
       "      <th>Little</th>\n",
       "      <td>2.587603</td>\n",
       "      <td>30.450000</td>\n",
       "    </tr>\n",
       "    <tr>\n",
       "      <th>Lots</th>\n",
       "      <td>2.351418</td>\n",
       "      <td>69.937500</td>\n",
       "    </tr>\n",
       "    <tr>\n",
       "      <th>Normal</th>\n",
       "      <td>7.059433</td>\n",
       "      <td>48.915663</td>\n",
       "    </tr>\n",
       "  </tbody>\n",
       "</table>\n",
       "</div>"
      ],
      "text/plain": [
       "                          buildUpPlayDribbling           \n",
       "                                           std       mean\n",
       "buildUpPlayDribblingClass                                \n",
       "Little                                2.587603  30.450000\n",
       "Lots                                  2.351418  69.937500\n",
       "Normal                                7.059433  48.915663"
      ]
     },
     "execution_count": 126,
     "metadata": {},
     "output_type": "execute_result"
    }
   ],
   "source": [
    "temp.groupby(\"buildUpPlayDribblingClass\").agg({\"buildUpPlayDribbling\": [\"std\", \"mean\"]})"
   ]
  },
  {
   "cell_type": "code",
   "execution_count": 127,
   "metadata": {},
   "outputs": [],
   "source": [
    "drib_map = team_att_df.groupby(\"buildUpPlayDribblingClass\")[\"buildUpPlayDribbling\"].mean().to_dict()\n",
    "\n",
    "team_att_df[\"buildUpPlayDribbling_imp\"] = team_att_df[\"buildUpPlayDribblingClass\"].map(drib_map)"
   ]
  },
  {
   "cell_type": "code",
   "execution_count": 128,
   "metadata": {},
   "outputs": [],
   "source": [
    "team_att_df[\"buildUpPlayDribbling_imp\"] = np.where(team_att_df[\"buildUpPlayDribbling\"].isnull(),\n",
    "                                                   team_att_df[\"buildUpPlayDribbling_imp\"],\n",
    "                                                   team_att_df[\"buildUpPlayDribbling\"])"
   ]
  },
  {
   "cell_type": "code",
   "execution_count": 129,
   "metadata": {},
   "outputs": [],
   "source": [
    "team_att_df[\"missing_buildUpPlayDribbling\"] = np.where(team_att_df[\"buildUpPlayDribbling\"].isnull(),1, 0)"
   ]
  },
  {
   "cell_type": "code",
   "execution_count": 130,
   "metadata": {},
   "outputs": [
    {
     "data": {
      "text/plain": [
       "['buildUpPlaySpeed',\n",
       " 'buildUpPlayDribbling',\n",
       " 'buildUpPlayPassing',\n",
       " 'chanceCreationPassing',\n",
       " 'chanceCreationCrossing',\n",
       " 'chanceCreationShooting',\n",
       " 'defencePressure',\n",
       " 'defenceAggression',\n",
       " 'defenceTeamWidth',\n",
       " 'buildUpPlayDribbling_imp',\n",
       " 'missing_buildUpPlayDribbling']"
      ]
     },
     "execution_count": 130,
     "metadata": {},
     "output_type": "execute_result"
    }
   ],
   "source": [
    "numeric_cols = team_att_df.select_dtypes([np.number]).columns\n",
    "numeric_cols = [c for c in numeric_cols if \"team_id\"!=c]\n",
    "numeric_cols"
   ]
  },
  {
   "cell_type": "code",
   "execution_count": 131,
   "metadata": {},
   "outputs": [],
   "source": [
    "col_sel = [\"team_id\", \"date\", \"defenceDefenderLineClass\",\n",
    "            \"buildUpPlayPositioningClass\", \"chanceCreationPositioningClass\"] +numeric_cols"
   ]
  },
  {
   "cell_type": "code",
   "execution_count": 132,
   "metadata": {},
   "outputs": [],
   "source": [
    "#team_att_df.groupby(\"defenceDefenderLineClass\")[\"defenceDefenderLine\"].mean()\n",
    "\n",
    "#team_att_df.groupby(\"buildUpPlayPositioningClass\")[\"buildUpPlayPositioning\"].mean()\n",
    "\n",
    "#team_att_df.groupby(\"chanceCreationPositioningClass\")[\"chanceCreationPositioning\"].mean()"
   ]
  },
  {
   "cell_type": "code",
   "execution_count": 133,
   "metadata": {},
   "outputs": [
    {
     "data": {
      "text/plain": [
       "['team_id',\n",
       " 'date',\n",
       " 'defenceDefenderLineClass',\n",
       " 'buildUpPlayPositioningClass',\n",
       " 'chanceCreationPositioningClass',\n",
       " 'buildUpPlaySpeed',\n",
       " 'buildUpPlayDribbling',\n",
       " 'buildUpPlayPassing',\n",
       " 'chanceCreationPassing',\n",
       " 'chanceCreationCrossing',\n",
       " 'chanceCreationShooting',\n",
       " 'defencePressure',\n",
       " 'defenceAggression',\n",
       " 'defenceTeamWidth',\n",
       " 'buildUpPlayDribbling_imp',\n",
       " 'missing_buildUpPlayDribbling']"
      ]
     },
     "execution_count": 133,
     "metadata": {},
     "output_type": "execute_result"
    }
   ],
   "source": [
    "col_sel"
   ]
  },
  {
   "cell_type": "code",
   "execution_count": 134,
   "metadata": {},
   "outputs": [
    {
     "data": {
      "text/plain": [
       "Index(['team_id', 'date', 'buildUpPlaySpeed', 'buildUpPlaySpeedClass',\n",
       "       'buildUpPlayDribbling', 'buildUpPlayDribblingClass',\n",
       "       'buildUpPlayPassing', 'buildUpPlayPassingClass',\n",
       "       'buildUpPlayPositioningClass', 'chanceCreationPassing',\n",
       "       'chanceCreationPassingClass', 'chanceCreationCrossing',\n",
       "       'chanceCreationCrossingClass', 'chanceCreationShooting',\n",
       "       'chanceCreationShootingClass', 'chanceCreationPositioningClass',\n",
       "       'defencePressure', 'defencePressureClass', 'defenceAggression',\n",
       "       'defenceAggressionClass', 'defenceTeamWidth', 'defenceTeamWidthClass',\n",
       "       'defenceDefenderLineClass', 'buildUpPlayDribbling_imp',\n",
       "       'missing_buildUpPlayDribbling'],\n",
       "      dtype='object')"
      ]
     },
     "execution_count": 134,
     "metadata": {},
     "output_type": "execute_result"
    }
   ],
   "source": [
    "team_att_df.columns"
   ]
  },
  {
   "cell_type": "code",
   "execution_count": 135,
   "metadata": {},
   "outputs": [],
   "source": [
    "team_att_df[col_sel].drop(\"buildUpPlayDribbling\", axis=1).to_csv(dir + \"team_att_df_imp.csv\")"
   ]
  },
  {
   "cell_type": "code",
   "execution_count": null,
   "metadata": {},
   "outputs": [],
   "source": []
  },
  {
   "cell_type": "code",
   "execution_count": null,
   "metadata": {},
   "outputs": [],
   "source": []
  },
  {
   "cell_type": "code",
   "execution_count": null,
   "metadata": {},
   "outputs": [],
   "source": [
    "dribbling_df = team_att_df[[\"date\", \"team_id\", \"buildUpPlayDribblingClass\"] + numeric_cols]"
   ]
  },
  {
   "cell_type": "code",
   "execution_count": null,
   "metadata": {},
   "outputs": [],
   "source": [
    "drib_map = dribbling_df.groupby(\"buildUpPlayDribblingClass\")[\"buildUpPlayDribbling\"].mean().to_dict()\n",
    "\n",
    "team_att_df[\"buildUpPlayDribblingClass\"] = team_att_df[\"buildUpPlayDribblingClass\"].map(drib_map)"
   ]
  },
  {
   "cell_type": "code",
   "execution_count": null,
   "metadata": {},
   "outputs": [],
   "source": [
    "dribbling_df.mean(axis=0)"
   ]
  },
  {
   "cell_type": "code",
   "execution_count": null,
   "metadata": {},
   "outputs": [],
   "source": [
    "dribbling_df.std(axis=0)"
   ]
  },
  {
   "cell_type": "code",
   "execution_count": null,
   "metadata": {},
   "outputs": [],
   "source": [
    "player_att_match_df[\"date_player_att\"] = pd.to_datetime(player_att_match_df[\"date\"])"
   ]
  },
  {
   "cell_type": "code",
   "execution_count": null,
   "metadata": {},
   "outputs": [],
   "source": [
    "print(dribbling_df.shape)\n",
    "dribbling_df = dribbling_df.merge(player_att_match_df.drop([\"match_id\", \"date\",\n",
    "                                                            \"preferred_foot\", \"day_diff\"], axis=1),\n",
    "                                  on=\"team_id\", how=\"left\")\n",
    "print(dribbling_df.shape)"
   ]
  },
  {
   "cell_type": "code",
   "execution_count": null,
   "metadata": {},
   "outputs": [],
   "source": [
    "dribbling_df = dribbling_df.loc[dribbling_df[\"date\"] >= dribbling_df[\"date_player_att\"]]\n",
    "print(dribbling_df.shape)"
   ]
  },
  {
   "cell_type": "code",
   "execution_count": null,
   "metadata": {},
   "outputs": [],
   "source": [
    "dribbling_df = dribbling_df.loc[(dribbling_df[\"date\"] - dribbling_df[\"date_player_att\"]).dt.days <= 280]\n",
    "print(dribbling_df.shape)"
   ]
  },
  {
   "cell_type": "code",
   "execution_count": null,
   "metadata": {},
   "outputs": [],
   "source": [
    "avg_dribbling_df = dribbling_df[[\"date\", \"team_id\"]].drop_duplicates()"
   ]
  },
  {
   "cell_type": "code",
   "execution_count": null,
   "metadata": {},
   "outputs": [],
   "source": [
    "for col in [c for c in dribbling_df.columns[2:-1] if c != \"player_id\"]:\n",
    "    col_avg = dribbling_df.groupby([\"date\", \"team_id\"])[col].mean().reset_index()\n",
    "    avg_dribbling_df = avg_dribbling_df.merge(col_avg, on=[\"date\", \"team_id\"], how=\"left\")"
   ]
  },
  {
   "cell_type": "code",
   "execution_count": null,
   "metadata": {},
   "outputs": [],
   "source": [
    "avg_dribbling_df.columns"
   ]
  },
  {
   "cell_type": "code",
   "execution_count": null,
   "metadata": {},
   "outputs": [],
   "source": [
    "col_sel = [c for c in avg_dribbling_df.columns[12:] if \"gk_\" not in c]"
   ]
  },
  {
   "cell_type": "code",
   "execution_count": null,
   "metadata": {},
   "outputs": [],
   "source": [
    "print(team_att_df.shape)\n",
    "team_att_df = team_att_df.merge(avg_dribbling_df[col_sel + [\"date\", \"team_id\"]],\n",
    "                                on=[\"date\", \"team_id\"], how=\"left\")\n",
    "print(team_att_df.shape)"
   ]
  },
  {
   "cell_type": "code",
   "execution_count": null,
   "metadata": {
    "scrolled": true
   },
   "outputs": [],
   "source": [
    "team_att_df.isnull().sum()"
   ]
  },
  {
   "cell_type": "code",
   "execution_count": null,
   "metadata": {},
   "outputs": [],
   "source": [
    "team_att_df[\"buildUpPlayDribbling_imp\"] = 0"
   ]
  },
  {
   "cell_type": "code",
   "execution_count": null,
   "metadata": {},
   "outputs": [],
   "source": [
    "team_att_df[\"buildUpPlayDribbling_imp\"] = np.where(team_att_df[\"buildUpPlayDribbling\"].isnull(),\n",
    "                                                   team_att_df[\"buildUpPlayDribblingClass\"],\n",
    "                                                   team_att_df[\"buildUpPlayDribbling_imp\"])"
   ]
  },
  {
   "cell_type": "code",
   "execution_count": null,
   "metadata": {},
   "outputs": [],
   "source": [
    "team_att_df[[\"buildUpPlayDribbling_imp\",\"buildUpPlayDribbling\",\"buildUpPlayDribblingClass\"]].head(10)"
   ]
  },
  {
   "cell_type": "code",
   "execution_count": null,
   "metadata": {},
   "outputs": [],
   "source": [
    "feat_cols = [c for c in team_att_df.columns[2:] if \"Class\" not in c]\n",
    "\n",
    "feat_cols = team_att_df[feat_cols].corr()[\"buildUpPlayDribbling_imp\"].sort_values().tail(6).head(5).index.values"
   ]
  },
  {
   "cell_type": "code",
   "execution_count": null,
   "metadata": {},
   "outputs": [],
   "source": [
    "team_att_df[feat_cols].corr()[\"buildUpPlayDribbling_imp\"].sort_values()"
   ]
  },
  {
   "cell_type": "code",
   "execution_count": null,
   "metadata": {},
   "outputs": [],
   "source": [
    "feat_cols"
   ]
  },
  {
   "cell_type": "code",
   "execution_count": null,
   "metadata": {},
   "outputs": [],
   "source": [
    "team_att_imp_df = team_att_df[feat_cols.tolist()]"
   ]
  },
  {
   "cell_type": "code",
   "execution_count": null,
   "metadata": {},
   "outputs": [],
   "source": [
    "team_att_imp_df = (team_att_imp_df[feat_cols]-team_att_imp_df[feat_cols].mean())/team_att_imp_df[feat_cols].std()"
   ]
  },
  {
   "cell_type": "code",
   "execution_count": null,
   "metadata": {},
   "outputs": [],
   "source": [
    "team_att_imp_df.std()"
   ]
  },
  {
   "cell_type": "code",
   "execution_count": null,
   "metadata": {},
   "outputs": [],
   "source": [
    "team_att_imp_df[\"buildUpPlayDribbling_imp\"] = team_att_df[\"buildUpPlayDribbling_imp\"]"
   ]
  },
  {
   "cell_type": "code",
   "execution_count": null,
   "metadata": {},
   "outputs": [],
   "source": [
    "team_att_imp_df"
   ]
  },
  {
   "cell_type": "code",
   "execution_count": null,
   "metadata": {},
   "outputs": [],
   "source": [
    "def_imp = KNNImputer(n_neighbors=20)\n",
    "\n",
    "def_work_rate_imp = def_imp.fit_transform(def_imp_df)"
   ]
  },
  {
   "cell_type": "code",
   "execution_count": null,
   "metadata": {},
   "outputs": [],
   "source": []
  }
 ],
 "metadata": {
  "kernelspec": {
   "display_name": "Python 3",
   "language": "python",
   "name": "python3"
  },
  "language_info": {
   "codemirror_mode": {
    "name": "ipython",
    "version": 3
   },
   "file_extension": ".py",
   "mimetype": "text/x-python",
   "name": "python",
   "nbconvert_exporter": "python",
   "pygments_lexer": "ipython3",
   "version": "3.8.3"
  }
 },
 "nbformat": 4,
 "nbformat_minor": 4
}
