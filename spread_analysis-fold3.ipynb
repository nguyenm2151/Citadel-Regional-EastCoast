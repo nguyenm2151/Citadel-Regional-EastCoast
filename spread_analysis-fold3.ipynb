{
 "cells": [
  {
   "cell_type": "code",
   "execution_count": 1,
   "metadata": {},
   "outputs": [],
   "source": [
    "import pandas as pd\n",
    "import numpy as np\n",
    "import random\n",
    "import os\n",
    "import matplotlib.pyplot as plt\n",
    "from sklearn.metrics import classification_report\n",
    "import lightgbm\n",
    "from sklearn.model_selection import StratifiedKFold, RandomizedSearchCV\n",
    "from sklearn.pipeline import Pipeline\n",
    "from sklearn.metrics import log_loss\n",
    "from sklearn.calibration import calibration_curve\n",
    "from sklearn.calibration import CalibratedClassifierCV\n",
    "from sklearn.preprocessing import KBinsDiscretizer"
   ]
  },
  {
   "cell_type": "code",
   "execution_count": 2,
   "metadata": {},
   "outputs": [],
   "source": [
    "dir = \"/Users/Watanatornpitakp/Desktop/Columbia/DataOpen/\""
   ]
  },
  {
   "cell_type": "code",
   "execution_count": 3,
   "metadata": {},
   "outputs": [],
   "source": [
    "odds_df = pd.read_csv(dir + \"Code/EDA/stacked_df.csv\")\n",
    "\n",
    "odds_df[\"B365_bookspread\"] = np.where(odds_df[\"B365_bookspread\"]==0,\n",
    "                                      -1*odds_df[\"B365_bookspread\"],\n",
    "                                      odds_df[\"B365_bookspread\"])\n",
    "\n",
    "odds_df =  odds_df[[\"match_id\", \"team_id\", \"B365_bookspread\"]]"
   ]
  },
  {
   "cell_type": "code",
   "execution_count": 4,
   "metadata": {},
   "outputs": [],
   "source": [
    "match_df = pd.read_csv(dir + \"Data/match_clean.csv\")\n",
    "\n",
    "match_df = match_df.drop('Unnamed: 0',axis=1)"
   ]
  },
  {
   "cell_type": "code",
   "execution_count": 5,
   "metadata": {},
   "outputs": [
    {
     "name": "stdout",
     "output_type": "stream",
     "text": [
      "['B365H', 'B365D', 'B365A']\n",
      "['BWH', 'BWD', 'BWA']\n",
      "['IWH', 'IWD', 'IWA']\n",
      "['LBH', 'LBD', 'LBA']\n",
      "['PSH', 'PSD', 'PSA']\n",
      "['WHH', 'WHD', 'WHA']\n",
      "['SJH', 'SJD', 'SJA']\n",
      "['VCH', 'VCD', 'VCA']\n",
      "['GBH', 'GBD', 'GBA']\n",
      "['BSH', 'BSD', 'BSA']\n"
     ]
    }
   ],
   "source": [
    "odds_col = match_df.columns[32:63].tolist()\n",
    "\n",
    "odds_df = match_df[[\"date\", \"match_id\", \"home_team_id\", \"away_team_id\"]]\n",
    "\n",
    "for i in range(0, len(odds_col), 3):\n",
    "    print(odds_col[i:i+3])\n",
    "    \n",
    "    cur_odds_df = match_df.loc[~match_df[odds_col[i]].isnull(), \n",
    "                               [\"date\", \"match_id\", \"home_team_id\"] + odds_col[i:i+3]]\n",
    "    \n",
    "    inv_odds = (1/cur_odds_df[odds_col[i:i+3]])\n",
    "\n",
    "    booksum = inv_odds.sum(axis=1)\n",
    "\n",
    "    margin = booksum - 1\n",
    "\n",
    "    inv_odds[\"booksum\"] = booksum\n",
    "\n",
    "    bookprob = pd.concat([inv_odds[odds_col[i]]/inv_odds[\"booksum\"], \n",
    "                          inv_odds[odds_col[i+1]]/inv_odds[\"booksum\"], \n",
    "                          inv_odds[odds_col[i+2]]/inv_odds[\"booksum\"]], axis=1)\n",
    "\n",
    "    bookprob.columns = odds_col[i:i+3]\n",
    "    \n",
    "    bookprob[\"{}_bookspread\".format(odds_col[i][:-1])] = bookprob[odds_col[i]] - bookprob[odds_col[i+2]]\n",
    "    \n",
    "    bookprob[\"{}_margin\".format(odds_col[i][:-1])] = margin\n",
    "    \n",
    "    bookprob[[\"date\", \"match_id\", \"home_team_id\"]] = cur_odds_df[[\"date\", \"match_id\", \"home_team_id\"]]\n",
    "    \n",
    "    odds_df = odds_df.merge(bookprob, \n",
    "                            on=[\"date\", \"match_id\", \"home_team_id\"],\n",
    "                            how=\"left\")"
   ]
  },
  {
   "cell_type": "code",
   "execution_count": 6,
   "metadata": {},
   "outputs": [],
   "source": [
    "wl_odds_player_df = pd.read_csv(dir + \"Data/wl_odds_player_df.csv\")\n",
    "\n",
    "wl_odds_player_df = wl_odds_player_df.drop('Unnamed: 0', axis=1)\n",
    "\n",
    "odds_df = odds_df.loc[odds_df[\"match_id\"].isin(set(wl_odds_player_df[\"match_id\"]))]"
   ]
  },
  {
   "cell_type": "code",
   "execution_count": 7,
   "metadata": {},
   "outputs": [
    {
     "name": "stderr",
     "output_type": "stream",
     "text": [
      "<ipython-input-7-10b0c71b543d>:6: SettingWithCopyWarning: \n",
      "A value is trying to be set on a copy of a slice from a DataFrame.\n",
      "Try using .loc[row_indexer,col_indexer] = value instead\n",
      "\n",
      "See the caveats in the documentation: https://pandas.pydata.org/pandas-docs/stable/user_guide/indexing.html#returning-a-view-versus-a-copy\n",
      "  away_df[\"B365_bookspread\"] = -1*away_df[\"B365_bookspread\"]\n"
     ]
    }
   ],
   "source": [
    "home_df = odds_df[[\"match_id\", \"home_team_id\", \"B365_bookspread\"]]\n",
    "home_df.columns = [\"match_id\", \"team_id\", \"B365_bookspread\"]\n",
    "\n",
    "away_df = odds_df[[\"match_id\", \"away_team_id\", \"B365_bookspread\"]]\n",
    "away_df.columns = [\"match_id\", \"team_id\", \"B365_bookspread\"]\n",
    "away_df[\"B365_bookspread\"] = -1*away_df[\"B365_bookspread\"]\n",
    "\n",
    "odds_df = pd.concat([home_df, away_df])"
   ]
  },
  {
   "cell_type": "code",
   "execution_count": 8,
   "metadata": {},
   "outputs": [
    {
     "data": {
      "text/plain": [
       "(['2012/2013', '2013/2014', '2014/2015'], '2015/2016')"
      ]
     },
     "execution_count": 8,
     "metadata": {},
     "output_type": "execute_result"
    }
   ],
   "source": [
    "seasons = sorted(wl_odds_player_df[\"season\"].unique())\n",
    "\n",
    "i=4\n",
    "seasons[i:i+4][:-1], seasons[i:i+4][-1]"
   ]
  },
  {
   "cell_type": "code",
   "execution_count": 9,
   "metadata": {},
   "outputs": [],
   "source": [
    "i = 3\n",
    "    \n",
    "train_df = wl_odds_player_df.loc[wl_odds_player_df[\"season\"].isin(seasons[i:i+4][:-1])].dropna()\n",
    "test_df = wl_odds_player_df.loc[wl_odds_player_df[\"season\"].isin([seasons[i:i+4][-1]])].dropna()\n",
    "\n",
    "train_dates = sorted(train_df[\"date\"].unique())\n",
    "\n",
    "calib_dates = random.sample(train_dates, int(len(train_dates)*0.25))\n",
    "\n",
    "calib_df = train_df.loc[train_df[\"date\"].isin(calib_dates)]\n",
    "\n",
    "train_df = train_df.loc[~train_df[\"date\"].isin(calib_dates)]\n",
    "\n",
    "feat_col = [c for c in train_df.columns if \"avg\" in c]\n",
    "feat_col = feat_col + [\"rating_diff\"]\n",
    "\n",
    "skf = StratifiedKFold(n_splits=6, shuffle=True)\n",
    "\n",
    "lgb_param_grid = {'lgb__n_estimators': [100, 200, 300,],\n",
    "                 'lgb__num_leaves':  [2, 4, 6, 10, 15, 20],\n",
    "                 'lgb__subsample': [0.4, 0.6, 0.8, 1],\n",
    "                 'lgb__colsample_bytree': [0.4, 0.6, 0.8, 1],\n",
    "                 'lgb__is_unbalance': [False]}\n",
    "\n",
    "lgb_pipe = Pipeline([(\"lgb\", lightgbm.LGBMClassifier())])\n",
    "\n",
    "#lose\n",
    "lgb_cv_lose = RandomizedSearchCV(lgb_pipe, \n",
    "                                 param_distributions=lgb_param_grid, \n",
    "                            n_jobs=-1,\n",
    "                            cv=skf, \n",
    "                                 n_iter=50,\n",
    "                                 refit=True,\n",
    "                                )\n",
    "\n",
    "lgb_cv_lose.fit(train_df.drop([\"result\", \"win\", \"lose\", \"draw\", \"team_id\", \"m_rating\",\n",
    "                          \"cumulative_lose\", \"cumulative_win\",\n",
    "                          \"season\", \"date\", \"stage\", \"match_id\", 'match_num'], axis=1),\n",
    "                train_df[\"lose\"])\n",
    "\n",
    "\n",
    "lgb_calib_lose = CalibratedClassifierCV(lgb_cv_lose, method='sigmoid', cv=5)\n",
    "\n",
    "lgb_calib_lose.fit(calib_df.drop([\"result\", \"win\", \"lose\", \"draw\", \"team_id\", \"m_rating\",\n",
    "                             \"cumulative_lose\", \"cumulative_win\",\n",
    "                             \"season\", \"date\", \"stage\", \"match_id\", 'match_num'], axis=1),\n",
    "              calib_df[\"lose\"])\n",
    "\n",
    "lgb_calib_pred_lose = lgb_calib_lose.predict_proba(test_df.drop([\"result\", \"win\", \"lose\", \"draw\", \"team_id\", \"m_rating\",\n",
    "                                                                 \"cumulative_lose\", \"cumulative_win\",\n",
    "                                                                 \"season\", \"date\", \"stage\", \"match_id\", 'match_num'], axis=1))\n",
    "\n",
    "\n",
    "#win\n",
    "lgb_cv_win = RandomizedSearchCV(lgb_pipe, \n",
    "                                 param_distributions=lgb_param_grid, \n",
    "                            n_jobs=-1,\n",
    "                            cv=skf, \n",
    "                                 n_iter=50,\n",
    "                                 refit=True,\n",
    "                                )\n",
    "\n",
    "lgb_cv_win.fit(train_df.drop([\"result\", \"win\", \"lose\", \"draw\", \"team_id\", \"m_rating\",\n",
    "                          \"cumulative_lose\", \"cumulative_win\",\n",
    "                          \"season\", \"date\", \"stage\", \"match_id\", 'match_num'], axis=1),\n",
    "                train_df[\"win\"])\n",
    "\n",
    "\n",
    "lgb_calib_win = CalibratedClassifierCV(lgb_cv_win, method='sigmoid', cv=5)\n",
    "\n",
    "lgb_calib_win.fit(calib_df.drop([\"result\", \"win\", \"lose\", \"draw\", \"team_id\", \"m_rating\",\n",
    "                             \"cumulative_lose\", \"cumulative_win\",\n",
    "                             \"season\", \"date\", \"stage\", \"match_id\", 'match_num'], axis=1),\n",
    "              calib_df[\"win\"])\n",
    "\n",
    "lgb_calib_pred_win = lgb_calib_win.predict_proba(test_df.drop([\"result\", \"win\", \"lose\", \"draw\", \"team_id\", \"m_rating\",\n",
    "                                                                 \"cumulative_lose\", \"cumulative_win\",\n",
    "                                                                 \"season\", \"date\", \"stage\", \"match_id\", 'match_num'], axis=1))\n"
   ]
  },
  {
   "cell_type": "code",
   "execution_count": 10,
   "metadata": {},
   "outputs": [
    {
     "data": {
      "text/plain": [
       "Index(['league_id', 'rating_diff', 'home', 'match_bin', 'avg_overall_rating',\n",
       "       'avg_volleys_imp', 'avg_long_passing', 'avg_finishing',\n",
       "       'avg_ball_control', 'avg_dribbling', 'avg_short_passing',\n",
       "       'avg_reactions', 'avg_vision_imp', 'avg_penalties', 'avg_agility_imp',\n",
       "       'cumulative_result'],\n",
       "      dtype='object')"
      ]
     },
     "execution_count": 10,
     "metadata": {},
     "output_type": "execute_result"
    }
   ],
   "source": [
    "(train_df.drop([\"result\", \"win\", \"lose\", \"draw\", \"team_id\", \"m_rating\",\n",
    "                \"cumulative_lose\", \"cumulative_win\",\n",
    "                \"season\", \"date\", \"stage\", \"match_id\", 'match_num'], axis=1).columns)"
   ]
  },
  {
   "cell_type": "code",
   "execution_count": 11,
   "metadata": {},
   "outputs": [],
   "source": [
    "lgb_cv_pred_lose = lgb_calib_win.predict_proba(test_df.drop([\"result\", \"win\", \"lose\", \"draw\", \"team_id\", \"m_rating\",\n",
    "                                                                 \"cumulative_lose\", \"cumulative_win\",\n",
    "                                                                 \"season\", \"date\", \"stage\", \"match_id\", 'match_num'], axis=1))"
   ]
  },
  {
   "cell_type": "code",
   "execution_count": 12,
   "metadata": {},
   "outputs": [],
   "source": [
    "lgb_cv_pred_win = lgb_calib_win.predict_proba(test_df.drop([\"result\", \"win\", \"lose\", \"draw\", \"team_id\", \"m_rating\",\n",
    "                                                                 \"cumulative_lose\", \"cumulative_win\",\n",
    "                                                                 \"season\", \"date\", \"stage\", \"match_id\", 'match_num'], axis=1))"
   ]
  },
  {
   "cell_type": "code",
   "execution_count": 13,
   "metadata": {},
   "outputs": [],
   "source": [
    "test_pred_df = pd.DataFrame({\"lose_pred\":lgb_calib_pred_lose[:,1], \"win_pred\":lgb_calib_pred_win[:,1]})\n",
    "\n",
    "test_pred_df.columns = [\"lose_pred\", \"win_pred\"]\n",
    "\n",
    "test_pred_df[\"sum_pred\"] = test_pred_df.sum(axis=1)\n",
    "\n",
    "test_pred_df[\"lose_pred\"] = test_pred_df[\"lose_pred\"] / test_pred_df[\"sum_pred\"]\n",
    "\n",
    "test_pred_df[\"win_pred\"] = test_pred_df[\"win_pred\"] / test_pred_df[\"sum_pred\"]\n",
    "\n",
    "test_pred_df = pd.concat([test_pred_df, test_df.reset_index(drop=True)], axis=1)\n",
    "\n",
    "test_pred_df = test_pred_df.merge(odds_df, on=[\"team_id\", \"match_id\"], how=\"left\")\n",
    "\n",
    "test_pred_df = test_pred_df.dropna()\n",
    "\n",
    "test_pred_df[\"pred_spread\"] = test_pred_df[\"win_pred\"] - test_pred_df[\"lose_pred\"]\n",
    "\n",
    "test_pred_df = test_pred_df.loc[test_pred_df[\"home\"]==1]"
   ]
  },
  {
   "cell_type": "code",
   "execution_count": 14,
   "metadata": {},
   "outputs": [],
   "source": [
    "kbin = KBinsDiscretizer(n_bins=10, encode='ordinal', strategy=\"kmeans\")\n",
    "\n",
    "kbin.fit(test_pred_df[\"pred_spread\"].values.reshape(-1, 1))\n",
    "\n",
    "bins = kbin.transform(test_pred_df[\"pred_spread\"].values.reshape(-1, 1))\n",
    "\n",
    "test_pred_df[\"pred_spread_bins\"] = bins"
   ]
  },
  {
   "cell_type": "code",
   "execution_count": 15,
   "metadata": {},
   "outputs": [
    {
     "data": {
      "text/html": [
       "<div>\n",
       "<style scoped>\n",
       "    .dataframe tbody tr th:only-of-type {\n",
       "        vertical-align: middle;\n",
       "    }\n",
       "\n",
       "    .dataframe tbody tr th {\n",
       "        vertical-align: top;\n",
       "    }\n",
       "\n",
       "    .dataframe thead tr th {\n",
       "        text-align: left;\n",
       "    }\n",
       "\n",
       "    .dataframe thead tr:last-of-type th {\n",
       "        text-align: right;\n",
       "    }\n",
       "</style>\n",
       "<table border=\"1\" class=\"dataframe\">\n",
       "  <thead>\n",
       "    <tr>\n",
       "      <th></th>\n",
       "      <th colspan=\"3\" halign=\"left\">pred_spread</th>\n",
       "      <th colspan=\"3\" halign=\"left\">win</th>\n",
       "      <th colspan=\"3\" halign=\"left\">lose</th>\n",
       "    </tr>\n",
       "    <tr>\n",
       "      <th></th>\n",
       "      <th>mean</th>\n",
       "      <th>min</th>\n",
       "      <th>max</th>\n",
       "      <th>mean</th>\n",
       "      <th>sum</th>\n",
       "      <th>size</th>\n",
       "      <th>mean</th>\n",
       "      <th>sum</th>\n",
       "      <th>size</th>\n",
       "    </tr>\n",
       "    <tr>\n",
       "      <th>pred_spread_bins</th>\n",
       "      <th></th>\n",
       "      <th></th>\n",
       "      <th></th>\n",
       "      <th></th>\n",
       "      <th></th>\n",
       "      <th></th>\n",
       "      <th></th>\n",
       "      <th></th>\n",
       "      <th></th>\n",
       "    </tr>\n",
       "  </thead>\n",
       "  <tbody>\n",
       "    <tr>\n",
       "      <th>0.0</th>\n",
       "      <td>-0.616360</td>\n",
       "      <td>-0.714942</td>\n",
       "      <td>-0.551512</td>\n",
       "      <td>0.111842</td>\n",
       "      <td>17</td>\n",
       "      <td>152</td>\n",
       "      <td>0.723684</td>\n",
       "      <td>110</td>\n",
       "      <td>152</td>\n",
       "    </tr>\n",
       "    <tr>\n",
       "      <th>1.0</th>\n",
       "      <td>-0.483765</td>\n",
       "      <td>-0.550511</td>\n",
       "      <td>-0.403920</td>\n",
       "      <td>0.177215</td>\n",
       "      <td>28</td>\n",
       "      <td>158</td>\n",
       "      <td>0.537975</td>\n",
       "      <td>85</td>\n",
       "      <td>158</td>\n",
       "    </tr>\n",
       "    <tr>\n",
       "      <th>2.0</th>\n",
       "      <td>-0.320154</td>\n",
       "      <td>-0.402840</td>\n",
       "      <td>-0.242248</td>\n",
       "      <td>0.245714</td>\n",
       "      <td>43</td>\n",
       "      <td>175</td>\n",
       "      <td>0.451429</td>\n",
       "      <td>79</td>\n",
       "      <td>175</td>\n",
       "    </tr>\n",
       "    <tr>\n",
       "      <th>3.0</th>\n",
       "      <td>-0.159979</td>\n",
       "      <td>-0.241439</td>\n",
       "      <td>-0.082858</td>\n",
       "      <td>0.318919</td>\n",
       "      <td>59</td>\n",
       "      <td>185</td>\n",
       "      <td>0.427027</td>\n",
       "      <td>79</td>\n",
       "      <td>185</td>\n",
       "    </tr>\n",
       "    <tr>\n",
       "      <th>4.0</th>\n",
       "      <td>-0.001351</td>\n",
       "      <td>-0.082280</td>\n",
       "      <td>0.067841</td>\n",
       "      <td>0.367521</td>\n",
       "      <td>86</td>\n",
       "      <td>234</td>\n",
       "      <td>0.367521</td>\n",
       "      <td>86</td>\n",
       "      <td>234</td>\n",
       "    </tr>\n",
       "    <tr>\n",
       "      <th>5.0</th>\n",
       "      <td>0.141792</td>\n",
       "      <td>0.068956</td>\n",
       "      <td>0.205371</td>\n",
       "      <td>0.395639</td>\n",
       "      <td>127</td>\n",
       "      <td>321</td>\n",
       "      <td>0.311526</td>\n",
       "      <td>100</td>\n",
       "      <td>321</td>\n",
       "    </tr>\n",
       "    <tr>\n",
       "      <th>6.0</th>\n",
       "      <td>0.271648</td>\n",
       "      <td>0.206261</td>\n",
       "      <td>0.330135</td>\n",
       "      <td>0.392749</td>\n",
       "      <td>130</td>\n",
       "      <td>331</td>\n",
       "      <td>0.265861</td>\n",
       "      <td>88</td>\n",
       "      <td>331</td>\n",
       "    </tr>\n",
       "    <tr>\n",
       "      <th>7.0</th>\n",
       "      <td>0.392376</td>\n",
       "      <td>0.331737</td>\n",
       "      <td>0.465016</td>\n",
       "      <td>0.526761</td>\n",
       "      <td>187</td>\n",
       "      <td>355</td>\n",
       "      <td>0.256338</td>\n",
       "      <td>91</td>\n",
       "      <td>355</td>\n",
       "    </tr>\n",
       "    <tr>\n",
       "      <th>8.0</th>\n",
       "      <td>0.539651</td>\n",
       "      <td>0.466700</td>\n",
       "      <td>0.619939</td>\n",
       "      <td>0.591398</td>\n",
       "      <td>220</td>\n",
       "      <td>372</td>\n",
       "      <td>0.158602</td>\n",
       "      <td>59</td>\n",
       "      <td>372</td>\n",
       "    </tr>\n",
       "    <tr>\n",
       "      <th>9.0</th>\n",
       "      <td>0.700971</td>\n",
       "      <td>0.621130</td>\n",
       "      <td>0.779817</td>\n",
       "      <td>0.745050</td>\n",
       "      <td>301</td>\n",
       "      <td>404</td>\n",
       "      <td>0.086634</td>\n",
       "      <td>35</td>\n",
       "      <td>404</td>\n",
       "    </tr>\n",
       "  </tbody>\n",
       "</table>\n",
       "</div>"
      ],
      "text/plain": [
       "                 pred_spread                           win            \\\n",
       "                        mean       min       max      mean  sum size   \n",
       "pred_spread_bins                                                       \n",
       "0.0                -0.616360 -0.714942 -0.551512  0.111842   17  152   \n",
       "1.0                -0.483765 -0.550511 -0.403920  0.177215   28  158   \n",
       "2.0                -0.320154 -0.402840 -0.242248  0.245714   43  175   \n",
       "3.0                -0.159979 -0.241439 -0.082858  0.318919   59  185   \n",
       "4.0                -0.001351 -0.082280  0.067841  0.367521   86  234   \n",
       "5.0                 0.141792  0.068956  0.205371  0.395639  127  321   \n",
       "6.0                 0.271648  0.206261  0.330135  0.392749  130  331   \n",
       "7.0                 0.392376  0.331737  0.465016  0.526761  187  355   \n",
       "8.0                 0.539651  0.466700  0.619939  0.591398  220  372   \n",
       "9.0                 0.700971  0.621130  0.779817  0.745050  301  404   \n",
       "\n",
       "                      lose            \n",
       "                      mean  sum size  \n",
       "pred_spread_bins                      \n",
       "0.0               0.723684  110  152  \n",
       "1.0               0.537975   85  158  \n",
       "2.0               0.451429   79  175  \n",
       "3.0               0.427027   79  185  \n",
       "4.0               0.367521   86  234  \n",
       "5.0               0.311526  100  321  \n",
       "6.0               0.265861   88  331  \n",
       "7.0               0.256338   91  355  \n",
       "8.0               0.158602   59  372  \n",
       "9.0               0.086634   35  404  "
      ]
     },
     "execution_count": 15,
     "metadata": {},
     "output_type": "execute_result"
    }
   ],
   "source": [
    "test_pred_df.groupby(\"pred_spread_bins\").agg({\"pred_spread\": [\"mean\", \"min\", \"max\"],\n",
    "                                              \"win\": [\"mean\", \"sum\", \"size\"],\n",
    "                                              \"lose\": [\"mean\", \"sum\", \"size\"]})"
   ]
  },
  {
   "cell_type": "code",
   "execution_count": 16,
   "metadata": {},
   "outputs": [],
   "source": [
    "test_pred_df[\"pred_spread_bins\"] = 2\n",
    "\n",
    "test_pred_df.loc[(test_pred_df[\"pred_spread\"]>= -0.079694) & \n",
    "                (test_pred_df[\"pred_spread\"]<= 0.059606), \"pred_spread_bins\"] = 4\n",
    "\n",
    "\n",
    "test_pred_df.loc[(test_pred_df[\"pred_spread\"]>= 0.060011), \"pred_spread_bins\"] = 5"
   ]
  },
  {
   "cell_type": "code",
   "execution_count": 17,
   "metadata": {},
   "outputs": [],
   "source": [
    "bet_win_bins = [5]\n",
    "bet_lose_bins = [0]\n",
    "bet_draw_bins = [4]"
   ]
  },
  {
   "cell_type": "code",
   "execution_count": 18,
   "metadata": {},
   "outputs": [],
   "source": [
    "test_pred_df[\"bet\"] = \"no bet\"\n",
    "\n",
    "test_pred_df.loc[test_pred_df[\"pred_spread_bins\"].isin(bet_win_bins), \"bet\"] = \"bet win\"\n",
    "\n",
    "test_pred_df.loc[test_pred_df[\"pred_spread_bins\"].isin(bet_lose_bins), \"bet\"] = \"bet lose\"\n",
    "\n",
    "test_pred_df.loc[test_pred_df[\"pred_spread_bins\"].isin(bet_draw_bins), \"bet\"] = \"bet draw\""
   ]
  },
  {
   "cell_type": "code",
   "execution_count": 19,
   "metadata": {},
   "outputs": [
    {
     "data": {
      "image/png": "[encoded data removed]",
      "text/plain": [
       "<Figure size 864x720 with 1 Axes>"
      ]
     },
     "metadata": {
      "needs_background": "light"
     },
     "output_type": "display_data"
    }
   ],
   "source": [
    "colors1 = {'bet lose':'pink', 'bet win':'green', 'bet draw': 'blue', \"no bet\":'orange'}\n",
    "\n",
    "fig, ax = plt.subplots(figsize=(12,10))\n",
    "for k in colors1.keys():\n",
    "    #ix = np.where(test_pred_df.loc[test_pred_df[\"home\"]==0,'bet'] == k)[0]\n",
    "    #ax.scatter(test_pred_df.loc[test_pred_df[\"home\"]==0, \"pred_spread\"].values[ix],\n",
    "    #           test_pred_df.loc[test_pred_df[\"home\"]==0, \"B365_bookspread\"].values[ix],\n",
    "    #           c = colors1[k], label = k, s = 30)\n",
    "    \n",
    "    ix = np.where(test_pred_df['bet'] == k)[0]\n",
    "    ax.scatter(test_pred_df[\"pred_spread\"].values[ix],\n",
    "               test_pred_df[\"B365_bookspread\"].values[ix],\n",
    "               c = colors1[k], label = k, s = 30)\n",
    "ax.legend(prop={'size': 14})\n",
    "ax.set_xlabel('predicted spread', fontsize=14)\n",
    "ax.set_ylabel(\"bookmaker's spread\", fontsize=14)\n",
    "plt.show()"
   ]
  },
  {
   "cell_type": "code",
   "execution_count": 20,
   "metadata": {},
   "outputs": [],
   "source": [
    "test_pred_df[\"bet_accuracy\"] = \"incorrect\"\n",
    "\n",
    "test_pred_df.loc[((test_pred_df[\"result\"]== 1) & (test_pred_df[\"bet\"]==\"bet win\") |\n",
    "                  (test_pred_df[\"result\"]== 0) & (test_pred_df[\"bet\"]==\"bet draw\")), \n",
    "                 \"bet_accuracy\"] = \"correct\"\n",
    "\n",
    "test_pred_df.loc[(test_pred_df[\"bet\"]==\"no bet\"), \"bet_accuracy\"] = \"no bet\""
   ]
  },
  {
   "cell_type": "code",
   "execution_count": 21,
   "metadata": {},
   "outputs": [
    {
     "data": {
      "image/png": "[encoded data removed]",
      "text/plain": [
       "<Figure size 864x720 with 1 Axes>"
      ]
     },
     "metadata": {
      "needs_background": "light"
     },
     "output_type": "display_data"
    }
   ],
   "source": [
    "colors2 = {'incorrect':'red', 'correct':'green'}\n",
    "\n",
    "fig, ax = plt.subplots(figsize=(12,10))\n",
    "for k in colors2.keys():\n",
    "    ix = np.where(test_pred_df.loc[test_pred_df[\"bet_accuracy\"]!=\"no bet\",'bet_accuracy'] == k)[0]\n",
    "    ax.scatter(test_pred_df.loc[test_pred_df[\"bet_accuracy\"]!=\"no bet\",\"pred_spread\"].values[ix],\n",
    "               test_pred_df.loc[test_pred_df[\"bet_accuracy\"]!=\"no bet\",\"B365_bookspread\"].values[ix],\n",
    "               c = colors2[k], label = k, s = 30)\n",
    "ax.legend(prop={'size': 14})\n",
    "ax.set_xlabel('predicted spread', fontsize=14)\n",
    "ax.set_ylabel(\"bookmaker's spread\", fontsize=14)\n",
    "plt.show()"
   ]
  },
  {
   "cell_type": "code",
   "execution_count": 22,
   "metadata": {},
   "outputs": [],
   "source": [
    "match_df = pd.read_csv(dir + \"Data/match_clean.csv\")\n",
    "\n",
    "match_df = match_df.drop('Unnamed: 0',axis=1)\n",
    "\n",
    "match_df = match_df.loc[match_df[\"match_id\"].isin(set(test_pred_df[\"match_id\"]))]\n",
    "\n",
    "match_df[\"result\"] = \"BWD\"\n",
    "match_df.loc[match_df[\"home_team_goal\"]> match_df[\"away_team_goal\"], \"result\"] = \"BWH\"\n",
    "match_df.loc[match_df[\"home_team_goal\"]< match_df[\"away_team_goal\"], \"result\"] = \"BWA\""
   ]
  },
  {
   "cell_type": "code",
   "execution_count": 23,
   "metadata": {},
   "outputs": [
    {
     "data": {
      "text/plain": [
       "Series([], Name: result, dtype: int64)"
      ]
     },
     "execution_count": 23,
     "metadata": {},
     "output_type": "execute_result"
    }
   ],
   "source": [
    "bet_lose = test_pred_df.loc[(test_pred_df[\"pred_spread_bins\"].isin(bet_lose_bins)),\n",
    "                             [\"team_id\", \"match_id\", \"home\", \"result\"]]\n",
    "\n",
    "bet_lose[\"result\"].value_counts()"
   ]
  },
  {
   "cell_type": "code",
   "execution_count": 24,
   "metadata": {},
   "outputs": [
    {
     "data": {
      "text/plain": [
       "Series([], Name: result, dtype: float64)"
      ]
     },
     "execution_count": 24,
     "metadata": {},
     "output_type": "execute_result"
    }
   ],
   "source": [
    "bet_lose[\"result\"].value_counts()/len(bet_lose)"
   ]
  },
  {
   "cell_type": "code",
   "execution_count": 25,
   "metadata": {},
   "outputs": [
    {
     "data": {
      "text/plain": [
       "nan"
      ]
     },
     "execution_count": 25,
     "metadata": {},
     "output_type": "execute_result"
    }
   ],
   "source": [
    "book_l_df = match_df.loc[match_df[\"match_id\"].isin(set(bet_lose[\"match_id\"])), \n",
    "                         [\"result\", \"BWH\", \"BWD\", \"BWA\", \"match_id\"]]\n",
    "\n",
    "book_l_df[\"pred\"] = book_l_df[['BWH','BWD', 'BWA']].idxmin(axis=1)\n",
    "\n",
    "np.mean(book_l_df[\"pred\"]==book_l_df[\"result\"])"
   ]
  },
  {
   "cell_type": "code",
   "execution_count": 26,
   "metadata": {},
   "outputs": [
    {
     "data": {
      "text/plain": [
       "bet win     1798\n",
       "no bet       676\n",
       "bet draw     213\n",
       "Name: bet, dtype: int64"
      ]
     },
     "execution_count": 26,
     "metadata": {},
     "output_type": "execute_result"
    }
   ],
   "source": [
    "test_pred_df[\"bet\"].value_counts()"
   ]
  },
  {
   "cell_type": "code",
   "execution_count": 27,
   "metadata": {},
   "outputs": [
    {
     "data": {
      "text/plain": [
       "correct      1028\n",
       "incorrect     983\n",
       "no bet        676\n",
       "Name: bet_accuracy, dtype: int64"
      ]
     },
     "execution_count": 27,
     "metadata": {},
     "output_type": "execute_result"
    }
   ],
   "source": [
    "test_pred_df[\"bet_accuracy\"].value_counts()"
   ]
  },
  {
   "cell_type": "code",
   "execution_count": 28,
   "metadata": {},
   "outputs": [
    {
     "data": {
      "text/plain": [
       "0.6531034482758621"
      ]
     },
     "execution_count": 28,
     "metadata": {},
     "output_type": "execute_result"
    }
   ],
   "source": [
    "947/(947+503)"
   ]
  },
  {
   "cell_type": "code",
   "execution_count": 29,
   "metadata": {},
   "outputs": [],
   "source": [
    "compare_matches = set(test_pred_df.loc[test_pred_df[\"bet\"].isin([\"bet lose\",\n",
    "                                                                 \"bet win\",\n",
    "                                                                 \"bet draw\"]), \"match_id\"])\n",
    "\n",
    "follow_book_bet = match_df.loc[match_df[\"match_id\"].isin(compare_matches)]\n",
    "\n",
    "follow_book_bet = follow_book_bet[[\"match_id\", \"result\", 'BWH','BWD', 'BWA']]\n",
    "\n",
    "follow_book_bet[\"pred\"] = follow_book_bet[['BWH','BWD', 'BWA']].idxmin(axis=1)"
   ]
  },
  {
   "cell_type": "code",
   "execution_count": 30,
   "metadata": {},
   "outputs": [
    {
     "data": {
      "text/plain": [
       "0.5271009448035803"
      ]
     },
     "execution_count": 30,
     "metadata": {},
     "output_type": "execute_result"
    }
   ],
   "source": [
    "np.mean(follow_book_bet[\"pred\"]==follow_book_bet[\"result\"])"
   ]
  },
  {
   "cell_type": "code",
   "execution_count": 31,
   "metadata": {},
   "outputs": [
    {
     "data": {
      "text/plain": [
       "949.78"
      ]
     },
     "execution_count": 31,
     "metadata": {},
     "output_type": "execute_result"
    }
   ],
   "source": [
    "follow_book_bet[\"dollar\"] = follow_book_bet[\"BWD\"]\n",
    "\n",
    "follow_book_bet[\"dollar\"] = np.where(follow_book_bet[\"result\"]==\"BWH\", \n",
    "                                     follow_book_bet[\"BWH\"],\n",
    "                                     follow_book_bet[\"dollar\"])\n",
    "\n",
    "\n",
    "follow_book_bet[\"dollar\"] = np.where(follow_book_bet[\"result\"]==\"BWA\", \n",
    "                                     follow_book_bet[\"BWA\"],\n",
    "                                     follow_book_bet[\"dollar\"])\n",
    "\n",
    "follow_book_bet[\"dollar\"] = np.where(follow_book_bet[\"pred\"]!=follow_book_bet[\"result\"],\n",
    "                                    -1, follow_book_bet[\"dollar\"])\n",
    "\n",
    "\n",
    "\n",
    "follow_book_bet[\"dollar\"].sum()"
   ]
  },
  {
   "cell_type": "code",
   "execution_count": 47,
   "metadata": {},
   "outputs": [
    {
     "data": {
      "text/plain": [
       "1161.5900000000026"
      ]
     },
     "execution_count": 47,
     "metadata": {},
     "output_type": "execute_result"
    }
   ],
   "source": [
    "268.5400000000001 + 893.0500000000026"
   ]
  },
  {
   "cell_type": "code",
   "execution_count": 48,
   "metadata": {},
   "outputs": [
    {
     "data": {
      "text/plain": [
       "(211.81000000000267, 2011)"
      ]
     },
     "execution_count": 48,
     "metadata": {},
     "output_type": "execute_result"
    }
   ],
   "source": [
    "1161.5900000000026-949.78, len(follow_book_bet)"
   ]
  },
  {
   "cell_type": "code",
   "execution_count": 32,
   "metadata": {},
   "outputs": [
    {
     "data": {
      "text/plain": [
       "0.5271009448035803"
      ]
     },
     "execution_count": 32,
     "metadata": {},
     "output_type": "execute_result"
    }
   ],
   "source": [
    "np.mean(follow_book_bet[\"result\"]==follow_book_bet[\"pred\"])"
   ]
  },
  {
   "cell_type": "code",
   "execution_count": 33,
   "metadata": {},
   "outputs": [
    {
     "data": {
      "text/plain": [
       "correct      1028\n",
       "incorrect     983\n",
       "no bet        676\n",
       "Name: bet_accuracy, dtype: int64"
      ]
     },
     "execution_count": 33,
     "metadata": {},
     "output_type": "execute_result"
    }
   ],
   "source": [
    "test_pred_df[\"bet_accuracy\"].value_counts()"
   ]
  },
  {
   "cell_type": "code",
   "execution_count": 34,
   "metadata": {},
   "outputs": [
    {
     "data": {
      "text/plain": [
       "Index(['lose_pred', 'win_pred', 'sum_pred', 'league_id', 'season', 'date',\n",
       "       'stage', 'match_id', 'team_id', 'm_rating', 'win', 'lose',\n",
       "       'rating_diff', 'home', 'cumulative_win', 'cumulative_lose', 'match_num',\n",
       "       'match_bin', 'draw', 'avg_overall_rating', 'avg_volleys_imp',\n",
       "       'avg_long_passing', 'avg_finishing', 'avg_ball_control',\n",
       "       'avg_dribbling', 'avg_short_passing', 'avg_reactions', 'avg_vision_imp',\n",
       "       'avg_penalties', 'avg_agility_imp', 'result', 'cumulative_result',\n",
       "       'B365_bookspread', 'pred_spread', 'pred_spread_bins', 'bet',\n",
       "       'bet_accuracy'],\n",
       "      dtype='object')"
      ]
     },
     "execution_count": 34,
     "metadata": {},
     "output_type": "execute_result"
    }
   ],
   "source": [
    "test_pred_df.columns"
   ]
  },
  {
   "cell_type": "code",
   "execution_count": 35,
   "metadata": {},
   "outputs": [],
   "source": [
    "odds_col = match_df.columns[32:63].tolist()\n",
    "\n",
    "dollar = 0\n",
    "for t, m, h, r in zip(bet_lose[\"team_id\"], bet_lose[\"match_id\"], bet_lose[\"home\"], bet_lose[\"result\"]):\n",
    "\n",
    "    if h == 0:\n",
    "        bwh = match_df.loc[(match_df[\"away_team_id\"]==t) & \n",
    "                           (match_df[\"match_id\"]==m), \"BWH\"].values[0]\n",
    "        if np.isnan(bwh):\n",
    "            continue\n",
    "            \n",
    "        if r == -1:\n",
    "            dollar += bwh\n",
    "        elif r == 0:\n",
    "            dollar -= 1\n",
    "        elif r == 1:\n",
    "            dollar -= 1\n",
    "            \n",
    "    elif h == 1:\n",
    "        bwa = match_df.loc[(match_df[\"home_team_id\"]==t) & \n",
    "                               (match_df[\"match_id\"]==m),  \"BWA\"].values[0]  \n",
    "        \n",
    "        if np.isnan(bwa):\n",
    "            continue\n",
    "        \n",
    "        if r == -1:\n",
    "            dollar -= 1\n",
    "        elif r == 0:\n",
    "            dollar -= 1\n",
    "        elif r == 1:\n",
    "            dollar += bwa        "
   ]
  },
  {
   "cell_type": "code",
   "execution_count": 36,
   "metadata": {},
   "outputs": [
    {
     "data": {
      "text/plain": [
       "0"
      ]
     },
     "execution_count": 36,
     "metadata": {},
     "output_type": "execute_result"
    }
   ],
   "source": [
    "dollar"
   ]
  },
  {
   "cell_type": "code",
   "execution_count": 37,
   "metadata": {},
   "outputs": [
    {
     "data": {
      "text/plain": [
       " 1    971\n",
       " 0    449\n",
       "-1    378\n",
       "Name: result, dtype: int64"
      ]
     },
     "execution_count": 37,
     "metadata": {},
     "output_type": "execute_result"
    }
   ],
   "source": [
    "bet_win = test_pred_df.loc[(test_pred_df[\"pred_spread_bins\"].isin(bet_win_bins)), \n",
    "                           [\"team_id\", \"match_id\", \"home\", \"result\"]]\n",
    "\n",
    "bet_win[\"result\"].value_counts()\n",
    "\n"
   ]
  },
  {
   "cell_type": "code",
   "execution_count": 38,
   "metadata": {},
   "outputs": [
    {
     "data": {
      "text/plain": [
       "0.5383759733036707"
      ]
     },
     "execution_count": 38,
     "metadata": {},
     "output_type": "execute_result"
    }
   ],
   "source": [
    "book_w_df = match_df.loc[match_df[\"match_id\"].isin(set(bet_win[\"match_id\"])), \n",
    "                         [\"result\", \"BWH\", \"BWD\", \"BWA\", \"match_id\"]]\n",
    "\n",
    "book_w_df[\"pred\"] = book_w_df[['BWH','BWD', 'BWA']].idxmin(axis=1)\n",
    "\n",
    "np.mean(book_w_df[\"pred\"]==book_w_df[\"result\"])"
   ]
  },
  {
   "cell_type": "code",
   "execution_count": 39,
   "metadata": {},
   "outputs": [],
   "source": [
    "odds_col = match_df.columns[32:63].tolist()\n",
    "\n",
    "dollar = 0\n",
    "\n",
    "for t, m, h, r in zip(bet_win[\"team_id\"], bet_win[\"match_id\"], bet_win[\"home\"], bet_win[\"result\"]):\n",
    "    \n",
    "    if h == 0:\n",
    "        bwa = match_df.loc[(match_df[\"away_team_id\"]==t) & \n",
    "                           (match_df[\"match_id\"]==m), \"BWA\"].values[0]\n",
    "        \n",
    "        if r == -1:\n",
    "            dollar -= 1\n",
    "        elif r == 0:  \n",
    "            dollar -= 1\n",
    "        elif r == 1:\n",
    "            dollar += bwa\n",
    "        \n",
    "    elif h == 1:\n",
    "        bwh = match_df.loc[(match_df[\"home_team_id\"]==t) & \n",
    "                           (match_df[\"match_id\"]==m),  \"BWH\"].values[0]\n",
    "        \n",
    "        if r == -1:\n",
    "            dollar -= 1\n",
    "        elif r == 0:\n",
    "            dollar -= 1\n",
    "        elif r == 1:\n",
    "            dollar += bwh        "
   ]
  },
  {
   "cell_type": "code",
   "execution_count": 40,
   "metadata": {},
   "outputs": [
    {
     "data": {
      "text/plain": [
       "893.0500000000026"
      ]
     },
     "execution_count": 40,
     "metadata": {},
     "output_type": "execute_result"
    }
   ],
   "source": [
    "dollar"
   ]
  },
  {
   "cell_type": "code",
   "execution_count": 41,
   "metadata": {},
   "outputs": [
    {
     "data": {
      "text/plain": [
       "-1    80\n",
       " 1    76\n",
       " 0    57\n",
       "Name: result, dtype: int64"
      ]
     },
     "execution_count": 41,
     "metadata": {},
     "output_type": "execute_result"
    }
   ],
   "source": [
    "bet_draw = test_pred_df.loc[(test_pred_df[\"pred_spread_bins\"].isin(bet_draw_bins)), \n",
    "                           [\"team_id\", \"match_id\", \"home\", \"result\"]]\n",
    "\n",
    "bet_draw[\"result\"].value_counts()"
   ]
  },
  {
   "cell_type": "code",
   "execution_count": 42,
   "metadata": {},
   "outputs": [
    {
     "data": {
      "text/plain": [
       "0.431924882629108"
      ]
     },
     "execution_count": 42,
     "metadata": {},
     "output_type": "execute_result"
    }
   ],
   "source": [
    "book_d_df = match_df.loc[match_df[\"match_id\"].isin(set(bet_draw[\"match_id\"])), \n",
    "                         [\"result\", \"BWH\", \"BWD\", \"BWA\", \"match_id\"]]\n",
    "\n",
    "book_d_df[\"pred\"] = book_d_df[['BWH','BWD', 'BWA']].idxmin(axis=1)\n",
    "\n",
    "np.mean(book_d_df[\"pred\"]==book_d_df[\"result\"])"
   ]
  },
  {
   "cell_type": "code",
   "execution_count": 45,
   "metadata": {},
   "outputs": [],
   "source": [
    "odds_col = match_df.columns[32:63].tolist()\n",
    "\n",
    "dollar = 0\n",
    "\n",
    "for t, m, h, r in zip(bet_win[\"team_id\"], bet_win[\"match_id\"], bet_win[\"home\"], bet_win[\"result\"]):\n",
    "    \n",
    "    if h == 0:\n",
    "        bwd = match_df.loc[(match_df[\"away_team_id\"]==t) & \n",
    "                           (match_df[\"match_id\"]==m), \"BWD\"].values[0]\n",
    "        \n",
    "        if np.isnan(bwd):\n",
    "            dollar += 0\n",
    "        elif r == -1:\n",
    "            dollar -= 1\n",
    "        elif r == 0:  \n",
    "            dollar += bwd\n",
    "        elif r == 1:\n",
    "            dollar -= 1\n",
    "        \n",
    "    elif h == 1:\n",
    "        bwd = match_df.loc[(match_df[\"home_team_id\"]==t) & \n",
    "                           (match_df[\"match_id\"]==m),  \"BWD\"].values[0]\n",
    "        \n",
    "        if np.isnan(bwd):\n",
    "            dollar += 0\n",
    "        elif r == -1:\n",
    "            dollar -= 1\n",
    "        elif r == 0:\n",
    "            dollar += bwd\n",
    "        elif r == 1:\n",
    "            dollar -= 1    "
   ]
  },
  {
   "cell_type": "code",
   "execution_count": 46,
   "metadata": {},
   "outputs": [
    {
     "data": {
      "text/plain": [
       "268.5400000000001"
      ]
     },
     "execution_count": 46,
     "metadata": {},
     "output_type": "execute_result"
    }
   ],
   "source": [
    "dollar"
   ]
  },
  {
   "cell_type": "code",
   "execution_count": null,
   "metadata": {},
   "outputs": [],
   "source": []
  },
  {
   "cell_type": "code",
   "execution_count": null,
   "metadata": {},
   "outputs": [],
   "source": []
  },
  {
   "cell_type": "code",
   "execution_count": null,
   "metadata": {},
   "outputs": [],
   "source": []
  }
 ],
 "metadata": {
  "kernelspec": {
   "display_name": "Python 3",
   "language": "python",
   "name": "python3"
  },
  "language_info": {
   "codemirror_mode": {
    "name": "ipython",
    "version": 3
   },
   "file_extension": ".py",
   "mimetype": "text/x-python",
   "name": "python",
   "nbconvert_exporter": "python",
   "pygments_lexer": "ipython3",
   "version": "3.8.3"
  }
 },
 "nbformat": 4,
 "nbformat_minor": 4
}
