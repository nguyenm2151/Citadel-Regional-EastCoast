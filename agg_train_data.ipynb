{
 "cells": [
  {
   "cell_type": "code",
   "execution_count": 1,
   "metadata": {},
   "outputs": [],
   "source": [
    "import pandas as pd\n",
    "import numpy as np\n",
    "import os"
   ]
  },
  {
   "cell_type": "code",
   "execution_count": 2,
   "metadata": {},
   "outputs": [],
   "source": [
    "dir = \"''"
   ]
  },
  {
   "cell_type": "code",
   "execution_count": 3,
   "metadata": {},
   "outputs": [],
   "source": [
    "odds_df = pd.read_csv(dir + \"Code/EDA/odds_df.csv\")\n",
    "odds_df = odds_df.drop('Unnamed: 0', axis=1)"
   ]
  },
  {
   "cell_type": "code",
   "execution_count": 4,
   "metadata": {},
   "outputs": [],
   "source": [
    "cumu_wl_df = pd.read_csv(dir + \"Code/EDA/stacked_df.csv\")\n",
    "cumu_wl_df = cumu_wl_df.drop('Unnamed: 0', axis=1)"
   ]
  },
  {
   "cell_type": "code",
   "execution_count": 5,
   "metadata": {},
   "outputs": [],
   "source": [
    "player_feat_df = pd.read_csv(dir+\"Data/feat_df.csv\")\n",
    "player_feat_df = player_feat_df.drop('Unnamed: 0', axis=1)"
   ]
  },
  {
   "cell_type": "code",
   "execution_count": 6,
   "metadata": {},
   "outputs": [
    {
     "data": {
      "text/plain": [
       "date                           0\n",
       "league_id                      0\n",
       "match_id                       0\n",
       "team_id                        0\n",
       "result                         0\n",
       "home                           0\n",
       "avg_overall_rating             0\n",
       "avg_potential                  0\n",
       "avg_crossing                   0\n",
       "avg_finishing                  0\n",
       "avg_heading_accuracy           0\n",
       "avg_short_passing              0\n",
       "avg_dribbling                  0\n",
       "avg_free_kick_accuracy         0\n",
       "avg_long_passing               0\n",
       "avg_ball_control               0\n",
       "avg_acceleration               0\n",
       "avg_sprint_speed               0\n",
       "avg_reactions                  0\n",
       "avg_shot_power                 0\n",
       "avg_stamina                    0\n",
       "avg_strength                   0\n",
       "avg_long_shots                 0\n",
       "avg_aggression                 0\n",
       "avg_interceptions              0\n",
       "avg_positioning                0\n",
       "avg_penalties                  0\n",
       "avg_marking                    0\n",
       "avg_standing_tackle            0\n",
       "max_gk_diving                  0\n",
       "max_gk_handling                0\n",
       "max_gk_kicking                 0\n",
       "max_gk_positioning             0\n",
       "max_gk_reflexes                0\n",
       "avg_attacking_work_rate_imp    0\n",
       "avg_defensive_work_rate_imp    0\n",
       "avg_volleys_imp                0\n",
       "avg_curve_imp                  0\n",
       "dtype: int64"
      ]
     },
     "execution_count": 6,
     "metadata": {},
     "output_type": "execute_result"
    }
   ],
   "source": [
    "player_feat_df.isnull().sum().head(38)"
   ]
  },
  {
   "cell_type": "code",
   "execution_count": 7,
   "metadata": {},
   "outputs": [
    {
     "data": {
      "text/plain": [
       "avg_agility_imp                    0\n",
       "avg_balance_imp                    0\n",
       "avg_jumping_imp                    0\n",
       "avg_vision_imp                     0\n",
       "avg_sliding_tackle_imp             0\n",
       "top3avg_overall_rating             0\n",
       "top3avg_potential                  0\n",
       "top3avg_crossing                   0\n",
       "top3avg_finishing                  0\n",
       "top3avg_heading_accuracy           0\n",
       "top3avg_short_passing              0\n",
       "top3avg_dribbling                  0\n",
       "top3avg_free_kick_accuracy         0\n",
       "top3avg_long_passing               0\n",
       "top3avg_ball_control               0\n",
       "top3avg_acceleration               0\n",
       "top3avg_sprint_speed               0\n",
       "top3avg_reactions                  0\n",
       "top3avg_shot_power                 0\n",
       "top3avg_stamina                    0\n",
       "top3avg_strength                   0\n",
       "top3avg_long_shots                 0\n",
       "top3avg_aggression                 0\n",
       "top3avg_interceptions              0\n",
       "top3avg_positioning                0\n",
       "top3avg_penalties                  0\n",
       "top3avg_marking                    0\n",
       "top3avg_standing_tackle            0\n",
       "top3avg_attacking_work_rate_imp    0\n",
       "top3avg_defensive_work_rate_imp    0\n",
       "top3avg_volleys_imp                0\n",
       "top3avg_curve_imp                  0\n",
       "top3avg_agility_imp                0\n",
       "top3avg_balance_imp                0\n",
       "top3avg_jumping_imp                0\n",
       "top3avg_vision_imp                 0\n",
       "top3avg_sliding_tackle_imp         0\n",
       "season                             0\n",
       "dtype: int64"
      ]
     },
     "execution_count": 7,
     "metadata": {},
     "output_type": "execute_result"
    }
   ],
   "source": [
    "player_feat_df.isnull().sum().tail(38)"
   ]
  },
  {
   "cell_type": "code",
   "execution_count": 8,
   "metadata": {},
   "outputs": [
    {
     "data": {
      "text/plain": [
       "Index(['league_id', 'season', 'date', 'stage', 'match_id', 'team_id',\n",
       "       'm_rating', 'win', 'lose', 'rating_diff', 'B365_bookspread', 'home',\n",
       "       'cumulative_win', 'cumulative_lose', 'prev_opp_sum_rating',\n",
       "       'prev_opp_sum_bookspread', 'prev_opp_avg_rating',\n",
       "       'prev_opp_avg_bspread', 'match_num', 'match_bin'],\n",
       "      dtype='object')"
      ]
     },
     "execution_count": 8,
     "metadata": {},
     "output_type": "execute_result"
    }
   ],
   "source": [
    "cumu_wl_df.columns"
   ]
  },
  {
   "cell_type": "code",
   "execution_count": 9,
   "metadata": {},
   "outputs": [
    {
     "data": {
      "text/plain": [
       "Index(['date', 'league_id', 'match_id', 'team_id', 'result', 'home',\n",
       "       'avg_overall_rating', 'avg_potential', 'avg_crossing', 'avg_finishing',\n",
       "       'avg_heading_accuracy', 'avg_short_passing', 'avg_dribbling',\n",
       "       'avg_free_kick_accuracy', 'avg_long_passing', 'avg_ball_control',\n",
       "       'avg_acceleration', 'avg_sprint_speed', 'avg_reactions',\n",
       "       'avg_shot_power', 'avg_stamina', 'avg_strength', 'avg_long_shots',\n",
       "       'avg_aggression', 'avg_interceptions', 'avg_positioning',\n",
       "       'avg_penalties', 'avg_marking', 'avg_standing_tackle', 'max_gk_diving',\n",
       "       'max_gk_handling', 'max_gk_kicking', 'max_gk_positioning',\n",
       "       'max_gk_reflexes', 'avg_attacking_work_rate_imp',\n",
       "       'avg_defensive_work_rate_imp', 'avg_volleys_imp', 'avg_curve_imp',\n",
       "       'avg_agility_imp', 'avg_balance_imp', 'avg_jumping_imp',\n",
       "       'avg_vision_imp', 'avg_sliding_tackle_imp', 'top3avg_overall_rating',\n",
       "       'top3avg_potential', 'top3avg_crossing', 'top3avg_finishing',\n",
       "       'top3avg_heading_accuracy', 'top3avg_short_passing',\n",
       "       'top3avg_dribbling', 'top3avg_free_kick_accuracy',\n",
       "       'top3avg_long_passing', 'top3avg_ball_control', 'top3avg_acceleration',\n",
       "       'top3avg_sprint_speed', 'top3avg_reactions', 'top3avg_shot_power',\n",
       "       'top3avg_stamina', 'top3avg_strength', 'top3avg_long_shots',\n",
       "       'top3avg_aggression', 'top3avg_interceptions', 'top3avg_positioning',\n",
       "       'top3avg_penalties', 'top3avg_marking', 'top3avg_standing_tackle',\n",
       "       'top3avg_attacking_work_rate_imp', 'top3avg_defensive_work_rate_imp',\n",
       "       'top3avg_volleys_imp', 'top3avg_curve_imp', 'top3avg_agility_imp',\n",
       "       'top3avg_balance_imp', 'top3avg_jumping_imp', 'top3avg_vision_imp',\n",
       "       'top3avg_sliding_tackle_imp', 'season'],\n",
       "      dtype='object')"
      ]
     },
     "execution_count": 9,
     "metadata": {},
     "output_type": "execute_result"
    }
   ],
   "source": [
    "player_feat_df.columns"
   ]
  },
  {
   "cell_type": "code",
   "execution_count": 10,
   "metadata": {},
   "outputs": [
    {
     "data": {
      "text/plain": [
       "Index(['league_id', 'season', 'date', 'stage', 'match_id', 'home_team_id',\n",
       "       'away_team_id', 'home_goal', 'away_goal', 'home_m_rating',\n",
       "       'away_m_rating', 'B365H', 'B365D', 'B365A', 'B365_bookspread',\n",
       "       'B365_margin', 'BWH', 'BWD', 'BWA', 'BW_bookspread', 'BW_margin', 'IWH',\n",
       "       'IWD', 'IWA', 'IW_bookspread', 'IW_margin', 'LBH', 'LBD', 'LBA',\n",
       "       'LB_bookspread', 'LB_margin', 'PSH', 'PSD', 'PSA', 'PS_bookspread',\n",
       "       'PS_margin', 'WHH', 'WHD', 'WHA', 'WH_bookspread', 'WH_margin', 'SJH',\n",
       "       'SJD', 'SJA', 'SJ_bookspread', 'SJ_margin', 'VCH', 'VCD', 'VCA',\n",
       "       'VC_bookspread', 'VC_margin', 'GBH', 'GBD', 'GBA', 'GB_bookspread',\n",
       "       'GB_margin', 'BSH', 'BSD', 'BSA', 'BS_bookspread', 'BS_margin',\n",
       "       'rating_home_v_against', 'goal_home_v_against', 'home_win', 'home_lose',\n",
       "       'away_win', 'away_lose', 'home_cumulative_win', 'home_cumulative_lose',\n",
       "       'away_cumulative_win', 'away_cumulative_lose'],\n",
       "      dtype='object')"
      ]
     },
     "execution_count": 10,
     "metadata": {},
     "output_type": "execute_result"
    }
   ],
   "source": [
    "odds_df.columns"
   ]
  },
  {
   "cell_type": "code",
   "execution_count": 11,
   "metadata": {},
   "outputs": [],
   "source": [
    "odds_col = [c for c in odds_df.columns if c[-6:] == \"spread\"]\n",
    "odds_df[\"draw\"] = np.where(odds_df[\"home_goal\"]==odds_df[\"away_goal\"], 1, 0)\n",
    "odds_df = odds_df[[\"match_id\", \"home_team_id\", \"away_team_id\", \"draw\"] + odds_col]"
   ]
  },
  {
   "cell_type": "code",
   "execution_count": 12,
   "metadata": {},
   "outputs": [],
   "source": [
    "#odds_df[\"avg_bookspread\"] = np.nanmean(odds_df[odds_col], axis=1)"
   ]
  },
  {
   "cell_type": "code",
   "execution_count": 13,
   "metadata": {},
   "outputs": [],
   "source": [
    "spread_cor_dict = {}\n",
    "for i in range(len(odds_col)):\n",
    "    for j in range(i+1, len(odds_col)):\n",
    "        cor = odds_df[[odds_col[i], odds_col[j]]].dropna(axis=0, how='any').corr().values[0,1]\n",
    "        spread_cor_dict[odds_col[i] + \"_\" + odds_col[j]] = round(cor,2)"
   ]
  },
  {
   "cell_type": "code",
   "execution_count": 14,
   "metadata": {},
   "outputs": [
    {
     "data": {
      "text/plain": [
       "{'B365_bookspread_BW_bookspread': 1.0,\n",
       " 'B365_bookspread_IW_bookspread': 0.99,\n",
       " 'B365_bookspread_LB_bookspread': 1.0,\n",
       " 'B365_bookspread_PS_bookspread': 1.0,\n",
       " 'B365_bookspread_WH_bookspread': 1.0,\n",
       " 'B365_bookspread_SJ_bookspread': 1.0,\n",
       " 'B365_bookspread_VC_bookspread': 1.0,\n",
       " 'B365_bookspread_GB_bookspread': 1.0,\n",
       " 'B365_bookspread_BS_bookspread': 1.0,\n",
       " 'BW_bookspread_IW_bookspread': 0.99,\n",
       " 'BW_bookspread_LB_bookspread': 0.99,\n",
       " 'BW_bookspread_PS_bookspread': 1.0,\n",
       " 'BW_bookspread_WH_bookspread': 1.0,\n",
       " 'BW_bookspread_SJ_bookspread': 1.0,\n",
       " 'BW_bookspread_VC_bookspread': 1.0,\n",
       " 'BW_bookspread_GB_bookspread': 1.0,\n",
       " 'BW_bookspread_BS_bookspread': 1.0,\n",
       " 'IW_bookspread_LB_bookspread': 0.99,\n",
       " 'IW_bookspread_PS_bookspread': 0.99,\n",
       " 'IW_bookspread_WH_bookspread': 0.99,\n",
       " 'IW_bookspread_SJ_bookspread': 0.99,\n",
       " 'IW_bookspread_VC_bookspread': 0.99,\n",
       " 'IW_bookspread_GB_bookspread': 0.99,\n",
       " 'IW_bookspread_BS_bookspread': 0.99,\n",
       " 'LB_bookspread_PS_bookspread': 1.0,\n",
       " 'LB_bookspread_WH_bookspread': 1.0,\n",
       " 'LB_bookspread_SJ_bookspread': 0.99,\n",
       " 'LB_bookspread_VC_bookspread': 1.0,\n",
       " 'LB_bookspread_GB_bookspread': 1.0,\n",
       " 'LB_bookspread_BS_bookspread': 1.0,\n",
       " 'PS_bookspread_WH_bookspread': 1.0,\n",
       " 'PS_bookspread_SJ_bookspread': 1.0,\n",
       " 'PS_bookspread_VC_bookspread': 1.0,\n",
       " 'PS_bookspread_GB_bookspread': 1.0,\n",
       " 'PS_bookspread_BS_bookspread': 1.0,\n",
       " 'WH_bookspread_SJ_bookspread': 1.0,\n",
       " 'WH_bookspread_VC_bookspread': 1.0,\n",
       " 'WH_bookspread_GB_bookspread': 1.0,\n",
       " 'WH_bookspread_BS_bookspread': 1.0,\n",
       " 'SJ_bookspread_VC_bookspread': 1.0,\n",
       " 'SJ_bookspread_GB_bookspread': 1.0,\n",
       " 'SJ_bookspread_BS_bookspread': 1.0,\n",
       " 'VC_bookspread_GB_bookspread': 1.0,\n",
       " 'VC_bookspread_BS_bookspread': 1.0,\n",
       " 'GB_bookspread_BS_bookspread': 1.0}"
      ]
     },
     "execution_count": 14,
     "metadata": {},
     "output_type": "execute_result"
    }
   ],
   "source": [
    "spread_cor_dict"
   ]
  },
  {
   "cell_type": "code",
   "execution_count": 15,
   "metadata": {},
   "outputs": [
    {
     "data": {
      "text/plain": [
       "match_id               0\n",
       "home_team_id           0\n",
       "away_team_id           0\n",
       "draw                   0\n",
       "B365_bookspread     3374\n",
       "BW_bookspread       3391\n",
       "IW_bookspread       3446\n",
       "LB_bookspread       3411\n",
       "PS_bookspread      14823\n",
       "WH_bookspread       3395\n",
       "SJ_bookspread       8871\n",
       "VC_bookspread       3400\n",
       "GB_bookspread      12045\n",
       "BS_bookspread      12046\n",
       "dtype: int64"
      ]
     },
     "execution_count": 15,
     "metadata": {},
     "output_type": "execute_result"
    }
   ],
   "source": [
    "odds_df.isnull().sum()"
   ]
  },
  {
   "cell_type": "code",
   "execution_count": 16,
   "metadata": {},
   "outputs": [],
   "source": [
    "home_odds_df = odds_df.drop(\"away_team_id\", axis=1)\n",
    "\n",
    "home_odds_df = home_odds_df.rename(columns={'home_team_id': 'team_id'})\n",
    "\n",
    "away_odds_df = odds_df.drop(\"home_team_id\", axis=1)\n",
    "\n",
    "away_odds_df = away_odds_df.rename(columns={'away_team_id': 'team_id'})\n",
    "\n",
    "for col in odds_col:\n",
    "    away_odds_df[col] = -1*away_odds_df[col]\n",
    "\n",
    "odds_df = pd.concat([home_odds_df, away_odds_df])"
   ]
  },
  {
   "cell_type": "code",
   "execution_count": 17,
   "metadata": {},
   "outputs": [],
   "source": [
    "odds_df = odds_df[[\"match_id\", \"team_id\", \"draw\"]]"
   ]
  },
  {
   "cell_type": "code",
   "execution_count": 18,
   "metadata": {},
   "outputs": [
    {
     "data": {
      "text/plain": [
       "Index(['match_id', 'team_id', 'home', 'avg_overall_rating', 'avg_volleys_imp',\n",
       "       'avg_long_passing', 'avg_finishing', 'avg_ball_control',\n",
       "       'avg_dribbling', 'avg_short_passing', 'avg_reactions', 'avg_vision_imp',\n",
       "       'avg_penalties', 'avg_agility_imp'],\n",
       "      dtype='object')"
      ]
     },
     "execution_count": 18,
     "metadata": {},
     "output_type": "execute_result"
    }
   ],
   "source": [
    "sel_player_feat = [\"avg_overall_rating\", \"avg_volleys_imp\", \"avg_long_passing\", \"avg_finishing\", \n",
    "                   \"avg_ball_control\", \"avg_dribbling\", \"avg_short_passing\", \"avg_reactions\",\n",
    "                   \"avg_vision_imp\", \"avg_penalties\", \"avg_agility_imp\"]\n",
    "\n",
    "player_feat_df = player_feat_df[[\"match_id\", \"team_id\", \"home\"] + sel_player_feat]\n",
    "\n",
    "player_feat_df.columns"
   ]
  },
  {
   "cell_type": "code",
   "execution_count": 19,
   "metadata": {},
   "outputs": [
    {
     "data": {
      "text/plain": [
       "match_id              0\n",
       "team_id               0\n",
       "home                  0\n",
       "avg_overall_rating    0\n",
       "avg_volleys_imp       0\n",
       "avg_long_passing      0\n",
       "avg_finishing         0\n",
       "avg_ball_control      0\n",
       "avg_dribbling         0\n",
       "avg_short_passing     0\n",
       "avg_reactions         0\n",
       "avg_vision_imp        0\n",
       "avg_penalties         0\n",
       "avg_agility_imp       0\n",
       "dtype: int64"
      ]
     },
     "execution_count": 19,
     "metadata": {},
     "output_type": "execute_result"
    }
   ],
   "source": [
    "player_feat_df.isnull().sum()"
   ]
  },
  {
   "cell_type": "code",
   "execution_count": 20,
   "metadata": {},
   "outputs": [],
   "source": [
    "player_feat_df = player_feat_df.sort_values([\"match_id\", \"home\"])\n",
    "\n",
    "for col in player_feat_df.columns[3:]:\n",
    "    player_feat_df[col] = player_feat_df.groupby(\"match_id\")[col].diff() \n",
    "    player_feat_df[col] = player_feat_df.groupby(\"match_id\")[col].bfill()\n",
    "    player_feat_df.loc[player_feat_df[\"home\"]==0, col] = -1*player_feat_df.loc[player_feat_df[\"home\"]==0, col]\n",
    "    \n",
    "player_feat_df = player_feat_df.drop(\"home\", axis=1)"
   ]
  },
  {
   "cell_type": "code",
   "execution_count": 21,
   "metadata": {},
   "outputs": [
    {
     "data": {
      "text/plain": [
       "match_id              0\n",
       "team_id               0\n",
       "avg_overall_rating    0\n",
       "avg_volleys_imp       0\n",
       "avg_long_passing      0\n",
       "avg_finishing         0\n",
       "avg_ball_control      0\n",
       "avg_dribbling         0\n",
       "avg_short_passing     0\n",
       "avg_reactions         0\n",
       "avg_vision_imp        0\n",
       "avg_penalties         0\n",
       "avg_agility_imp       0\n",
       "dtype: int64"
      ]
     },
     "execution_count": 21,
     "metadata": {},
     "output_type": "execute_result"
    }
   ],
   "source": [
    "player_feat_df.isnull().sum()"
   ]
  },
  {
   "cell_type": "code",
   "execution_count": 22,
   "metadata": {},
   "outputs": [
    {
     "name": "stdout",
     "output_type": "stream",
     "text": [
      "(52462, 20)\n",
      "(52462, 21)\n"
     ]
    }
   ],
   "source": [
    "print(cumu_wl_df.shape)\n",
    "wl_odds_player_df = cumu_wl_df.merge(odds_df, on=[\"match_id\", \"team_id\"], how=\"left\")\n",
    "print(wl_odds_player_df.shape)"
   ]
  },
  {
   "cell_type": "code",
   "execution_count": 23,
   "metadata": {},
   "outputs": [
    {
     "name": "stdout",
     "output_type": "stream",
     "text": [
      "(52462, 21)\n",
      "(52462, 32)\n"
     ]
    }
   ],
   "source": [
    "print(wl_odds_player_df.shape)\n",
    "wl_odds_player_df = wl_odds_player_df.merge(player_feat_df, on=[\"match_id\", \"team_id\"], how=\"left\")\n",
    "print(wl_odds_player_df.shape)"
   ]
  },
  {
   "cell_type": "code",
   "execution_count": 24,
   "metadata": {},
   "outputs": [],
   "source": [
    "wl_odds_player_df[\"result\"] = 0\n",
    "\n",
    "wl_odds_player_df.loc[wl_odds_player_df[\"win\"]==1, \"result\"] = 1\n",
    "\n",
    "wl_odds_player_df.loc[wl_odds_player_df[\"lose\"]==1, \"result\"] = -1\n",
    "\n",
    "wl_odds_player_df.loc[wl_odds_player_df[\"draw\"]==1, \"result\"] = 0"
   ]
  },
  {
   "cell_type": "code",
   "execution_count": 25,
   "metadata": {},
   "outputs": [],
   "source": [
    "wl_odds_player_df = wl_odds_player_df.drop([\"B365_bookspread\", \n",
    "                                            \"prev_opp_sum_bookspread\",\n",
    "                                            \"prev_opp_sum_rating\",\n",
    "                                            \"prev_opp_avg_bspread\",\n",
    "                                            \"prev_opp_avg_rating\"], axis=1)"
   ]
  },
  {
   "cell_type": "code",
   "execution_count": 26,
   "metadata": {},
   "outputs": [
    {
     "data": {
      "text/plain": [
       "league_id                0\n",
       "season                   0\n",
       "date                     0\n",
       "stage                    0\n",
       "match_id                 0\n",
       "team_id                  0\n",
       "m_rating                 0\n",
       "win                      0\n",
       "lose                     0\n",
       "rating_diff              0\n",
       "home                     0\n",
       "cumulative_win           0\n",
       "cumulative_lose          0\n",
       "match_num                0\n",
       "match_bin                0\n",
       "draw                     0\n",
       "avg_overall_rating    9738\n",
       "avg_volleys_imp       9738\n",
       "avg_long_passing      9738\n",
       "avg_finishing         9738\n",
       "avg_ball_control      9738\n",
       "avg_dribbling         9738\n",
       "avg_short_passing     9738\n",
       "avg_reactions         9738\n",
       "avg_vision_imp        9738\n",
       "avg_penalties         9738\n",
       "avg_agility_imp       9738\n",
       "result                   0\n",
       "dtype: int64"
      ]
     },
     "execution_count": 26,
     "metadata": {},
     "output_type": "execute_result"
    }
   ],
   "source": [
    "wl_odds_player_df.isnull().sum()"
   ]
  },
  {
   "cell_type": "code",
   "execution_count": 27,
   "metadata": {},
   "outputs": [
    {
     "name": "stdout",
     "output_type": "stream",
     "text": [
      "(52462, 28)\n",
      "(42724, 28)\n"
     ]
    }
   ],
   "source": [
    "print(wl_odds_player_df.shape)\n",
    "wl_odds_player_df = wl_odds_player_df.dropna()\n",
    "print(wl_odds_player_df.shape)"
   ]
  },
  {
   "cell_type": "code",
   "execution_count": 28,
   "metadata": {},
   "outputs": [
    {
     "data": {
      "text/plain": [
       "0    21362\n",
       "Name: result, dtype: int64"
      ]
     },
     "execution_count": 28,
     "metadata": {},
     "output_type": "execute_result"
    }
   ],
   "source": [
    "wl_odds_player_df.groupby(\"match_id\")[\"result\"].mean().value_counts()"
   ]
  },
  {
   "cell_type": "code",
   "execution_count": 29,
   "metadata": {},
   "outputs": [],
   "source": [
    "wl_odds_player_df[\"cumulative_result\"] = 0\n",
    "wl_odds_player_df[\"cumulative_result\"] = np.where(wl_odds_player_df[\"cumulative_win\"] > 0, \n",
    "                                                  wl_odds_player_df[\"cumulative_win\"],\n",
    "                                                  -1*wl_odds_player_df[\"cumulative_lose\"])"
   ]
  },
  {
   "cell_type": "code",
   "execution_count": 30,
   "metadata": {},
   "outputs": [],
   "source": [
    "wl_odds_player_df.to_csv(dir + \"Data/wl_odds_player_df.csv\")"
   ]
  },
  {
   "cell_type": "code",
   "execution_count": null,
   "metadata": {},
   "outputs": [],
   "source": []
  },
  {
   "cell_type": "code",
   "execution_count": null,
   "metadata": {},
   "outputs": [],
   "source": []
  }
 ],
 "metadata": {
  "kernelspec": {
   "display_name": "Python 3",
   "language": "python",
   "name": "python3"
  },
  "language_info": {
   "codemirror_mode": {
    "name": "ipython",
    "version": 3
   },
   "file_extension": ".py",
   "mimetype": "text/x-python",
   "name": "python",
   "nbconvert_exporter": "python",
   "pygments_lexer": "ipython3",
   "version": "3.8.3"
  }
 },
 "nbformat": 4,
 "nbformat_minor": 4
}
